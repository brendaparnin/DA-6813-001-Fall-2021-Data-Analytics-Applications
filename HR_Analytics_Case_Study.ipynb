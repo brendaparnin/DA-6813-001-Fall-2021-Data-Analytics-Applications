{
  "nbformat": 4,
  "nbformat_minor": 0,
  "metadata": {
    "colab": {
      "name": "HR Analytics Case Study.ipynb",
      "provenance": [],
      "collapsed_sections": [],
      "mount_file_id": "1zOpfhjV2Y5AoU041J3L5mJ90s9tLR4qX",
      "authorship_tag": "ABX9TyOBs+5c3ix7xhxXtfx99CV4",
      "include_colab_link": true
    },
    "kernelspec": {
      "name": "python3",
      "display_name": "Python 3"
    },
    "language_info": {
      "name": "python"
    }
  },
  "cells": [
    {
      "cell_type": "markdown",
      "metadata": {
        "id": "view-in-github",
        "colab_type": "text"
      },
      "source": [
        "<a href=\"https://colab.research.google.com/github/brendaparnin/DA-6813-001-Fall-2021-Data-Analytics-Applications/blob/main/HR_Analytics_Case_Study.ipynb\" target=\"_parent\"><img src=\"https://colab.research.google.com/assets/colab-badge.svg\" alt=\"Open In Colab\"/></a>"
      ]
    },
    {
      "cell_type": "code",
      "metadata": {
        "id": "5HAVpzNdk4KT"
      },
      "source": [
        "#pip install scikit-learn==0.18 --force-reinstall"
      ],
      "execution_count": 1,
      "outputs": []
    },
    {
      "cell_type": "code",
      "metadata": {
        "id": "bArVrTe8Ry48"
      },
      "source": [
        "#pip install heatmapz"
      ],
      "execution_count": 2,
      "outputs": []
    },
    {
      "cell_type": "code",
      "metadata": {
        "id": "aPpo6QVWLqHs"
      },
      "source": [
        "#pip install pingouin"
      ],
      "execution_count": 3,
      "outputs": []
    },
    {
      "cell_type": "code",
      "metadata": {
        "id": "gj4KQstVbdsv"
      },
      "source": [
        "#Data Maneuvering\n",
        "import pandas as pd\n",
        "import numpy as np\n",
        "import csv\n",
        "\n",
        "#Data Visualization\n",
        "import matplotlib.pyplot as plt\n",
        "import seaborn as sb\n",
        "from heatmap import heatmap, corrplot\n",
        "\n",
        "#Machine Learning\n",
        "from sklearn.linear_model import LogisticRegression\n",
        "from sklearn.neighbors import KNeighborsClassifier\n",
        "from sklearn.svm import LinearSVC, SVC\n",
        "from sklearn.model_selection import train_test_split\n",
        "from sklearn.preprocessing import StandardScaler \n",
        "from sklearn.metrics import confusion_matrix, classification_report  \n",
        "from sklearn.calibration import CalibratedClassifierCV\n",
        "from sklearn.model_selection import KFold\n",
        "from sklearn.ensemble import IsolationForest\n",
        "from sklearn.preprocessing import OneHotEncoder\n",
        "from imblearn.under_sampling import NearMiss\n",
        "from imblearn.under_sampling import RandomUnderSampler\n",
        "from collections import Counter\n",
        "\n",
        "from sklearn.metrics import mean_squared_error, r2_score, roc_auc_score\n",
        "from sklearn.metrics import roc_curve\n",
        "\n",
        "#Get Rid of Warnings\n",
        "import warnings\n",
        "warnings.simplefilter(action='ignore', category=DeprecationWarning)\n",
        "warnings.simplefilter(action='ignore', category=FutureWarning)\n"
      ],
      "execution_count": 4,
      "outputs": []
    },
    {
      "cell_type": "markdown",
      "metadata": {
        "id": "4UA1Ve11AjAv"
      },
      "source": [
        "## **Read in Data**"
      ]
    },
    {
      "cell_type": "code",
      "metadata": {
        "colab": {
          "base_uri": "https://localhost:8080/",
          "height": 312
        },
        "id": "Qy_VSE-yBcp9",
        "outputId": "4bf524a0-695b-43b2-a045-54cc8231074b"
      },
      "source": [
        "data = pd.read_csv('general_data.csv', sep =',', header=[0])\n",
        "data.head(5)"
      ],
      "execution_count": 5,
      "outputs": [
        {
          "output_type": "execute_result",
          "data": {
            "text/html": [
              "<div>\n",
              "<style scoped>\n",
              "    .dataframe tbody tr th:only-of-type {\n",
              "        vertical-align: middle;\n",
              "    }\n",
              "\n",
              "    .dataframe tbody tr th {\n",
              "        vertical-align: top;\n",
              "    }\n",
              "\n",
              "    .dataframe thead th {\n",
              "        text-align: right;\n",
              "    }\n",
              "</style>\n",
              "<table border=\"1\" class=\"dataframe\">\n",
              "  <thead>\n",
              "    <tr style=\"text-align: right;\">\n",
              "      <th></th>\n",
              "      <th>Age</th>\n",
              "      <th>Attrition</th>\n",
              "      <th>BusinessTravel</th>\n",
              "      <th>Department</th>\n",
              "      <th>DistanceFromHome</th>\n",
              "      <th>Education</th>\n",
              "      <th>EducationField</th>\n",
              "      <th>EmployeeCount</th>\n",
              "      <th>EmployeeID</th>\n",
              "      <th>Gender</th>\n",
              "      <th>JobLevel</th>\n",
              "      <th>JobRole</th>\n",
              "      <th>MaritalStatus</th>\n",
              "      <th>MonthlyIncome</th>\n",
              "      <th>NumCompaniesWorked</th>\n",
              "      <th>Over18</th>\n",
              "      <th>PercentSalaryHike</th>\n",
              "      <th>StandardHours</th>\n",
              "      <th>StockOptionLevel</th>\n",
              "      <th>TotalWorkingYears</th>\n",
              "      <th>TrainingTimesLastYear</th>\n",
              "      <th>YearsAtCompany</th>\n",
              "      <th>YearsSinceLastPromotion</th>\n",
              "      <th>YearsWithCurrManager</th>\n",
              "      <th>EnvironmentSatisfaction</th>\n",
              "      <th>JobSatisfaction</th>\n",
              "      <th>WorkLifeBalance</th>\n",
              "      <th>JobInvolvement</th>\n",
              "      <th>PerformanceRating</th>\n",
              "    </tr>\n",
              "  </thead>\n",
              "  <tbody>\n",
              "    <tr>\n",
              "      <th>0</th>\n",
              "      <td>51</td>\n",
              "      <td>No</td>\n",
              "      <td>Travel_Rarely</td>\n",
              "      <td>Sales</td>\n",
              "      <td>6</td>\n",
              "      <td>2</td>\n",
              "      <td>Life Sciences</td>\n",
              "      <td>1</td>\n",
              "      <td>1</td>\n",
              "      <td>Female</td>\n",
              "      <td>1</td>\n",
              "      <td>Healthcare Representative</td>\n",
              "      <td>Married</td>\n",
              "      <td>131160</td>\n",
              "      <td>1.0</td>\n",
              "      <td>Y</td>\n",
              "      <td>11</td>\n",
              "      <td>8</td>\n",
              "      <td>0</td>\n",
              "      <td>1.0</td>\n",
              "      <td>6</td>\n",
              "      <td>1</td>\n",
              "      <td>0</td>\n",
              "      <td>0</td>\n",
              "      <td>3.0</td>\n",
              "      <td>4.0</td>\n",
              "      <td>2.0</td>\n",
              "      <td>3</td>\n",
              "      <td>3</td>\n",
              "    </tr>\n",
              "    <tr>\n",
              "      <th>1</th>\n",
              "      <td>31</td>\n",
              "      <td>Yes</td>\n",
              "      <td>Travel_Frequently</td>\n",
              "      <td>Research &amp; Development</td>\n",
              "      <td>10</td>\n",
              "      <td>1</td>\n",
              "      <td>Life Sciences</td>\n",
              "      <td>1</td>\n",
              "      <td>2</td>\n",
              "      <td>Female</td>\n",
              "      <td>1</td>\n",
              "      <td>Research Scientist</td>\n",
              "      <td>Single</td>\n",
              "      <td>41890</td>\n",
              "      <td>0.0</td>\n",
              "      <td>Y</td>\n",
              "      <td>23</td>\n",
              "      <td>8</td>\n",
              "      <td>1</td>\n",
              "      <td>6.0</td>\n",
              "      <td>3</td>\n",
              "      <td>5</td>\n",
              "      <td>1</td>\n",
              "      <td>4</td>\n",
              "      <td>3.0</td>\n",
              "      <td>2.0</td>\n",
              "      <td>4.0</td>\n",
              "      <td>2</td>\n",
              "      <td>4</td>\n",
              "    </tr>\n",
              "    <tr>\n",
              "      <th>2</th>\n",
              "      <td>32</td>\n",
              "      <td>No</td>\n",
              "      <td>Travel_Frequently</td>\n",
              "      <td>Research &amp; Development</td>\n",
              "      <td>17</td>\n",
              "      <td>4</td>\n",
              "      <td>Other</td>\n",
              "      <td>1</td>\n",
              "      <td>3</td>\n",
              "      <td>Male</td>\n",
              "      <td>4</td>\n",
              "      <td>Sales Executive</td>\n",
              "      <td>Married</td>\n",
              "      <td>193280</td>\n",
              "      <td>1.0</td>\n",
              "      <td>Y</td>\n",
              "      <td>15</td>\n",
              "      <td>8</td>\n",
              "      <td>3</td>\n",
              "      <td>5.0</td>\n",
              "      <td>2</td>\n",
              "      <td>5</td>\n",
              "      <td>0</td>\n",
              "      <td>3</td>\n",
              "      <td>2.0</td>\n",
              "      <td>2.0</td>\n",
              "      <td>1.0</td>\n",
              "      <td>3</td>\n",
              "      <td>3</td>\n",
              "    </tr>\n",
              "    <tr>\n",
              "      <th>3</th>\n",
              "      <td>38</td>\n",
              "      <td>No</td>\n",
              "      <td>Non-Travel</td>\n",
              "      <td>Research &amp; Development</td>\n",
              "      <td>2</td>\n",
              "      <td>5</td>\n",
              "      <td>Life Sciences</td>\n",
              "      <td>1</td>\n",
              "      <td>4</td>\n",
              "      <td>Male</td>\n",
              "      <td>3</td>\n",
              "      <td>Human Resources</td>\n",
              "      <td>Married</td>\n",
              "      <td>83210</td>\n",
              "      <td>3.0</td>\n",
              "      <td>Y</td>\n",
              "      <td>11</td>\n",
              "      <td>8</td>\n",
              "      <td>3</td>\n",
              "      <td>13.0</td>\n",
              "      <td>5</td>\n",
              "      <td>8</td>\n",
              "      <td>7</td>\n",
              "      <td>5</td>\n",
              "      <td>4.0</td>\n",
              "      <td>4.0</td>\n",
              "      <td>3.0</td>\n",
              "      <td>2</td>\n",
              "      <td>3</td>\n",
              "    </tr>\n",
              "    <tr>\n",
              "      <th>4</th>\n",
              "      <td>32</td>\n",
              "      <td>No</td>\n",
              "      <td>Travel_Rarely</td>\n",
              "      <td>Research &amp; Development</td>\n",
              "      <td>10</td>\n",
              "      <td>1</td>\n",
              "      <td>Medical</td>\n",
              "      <td>1</td>\n",
              "      <td>5</td>\n",
              "      <td>Male</td>\n",
              "      <td>1</td>\n",
              "      <td>Sales Executive</td>\n",
              "      <td>Single</td>\n",
              "      <td>23420</td>\n",
              "      <td>4.0</td>\n",
              "      <td>Y</td>\n",
              "      <td>12</td>\n",
              "      <td>8</td>\n",
              "      <td>2</td>\n",
              "      <td>9.0</td>\n",
              "      <td>2</td>\n",
              "      <td>6</td>\n",
              "      <td>0</td>\n",
              "      <td>4</td>\n",
              "      <td>4.0</td>\n",
              "      <td>1.0</td>\n",
              "      <td>3.0</td>\n",
              "      <td>3</td>\n",
              "      <td>3</td>\n",
              "    </tr>\n",
              "  </tbody>\n",
              "</table>\n",
              "</div>"
            ],
            "text/plain": [
              "   Age Attrition  ... JobInvolvement PerformanceRating\n",
              "0   51        No  ...              3                 3\n",
              "1   31       Yes  ...              2                 4\n",
              "2   32        No  ...              3                 3\n",
              "3   38        No  ...              2                 3\n",
              "4   32        No  ...              3                 3\n",
              "\n",
              "[5 rows x 29 columns]"
            ]
          },
          "metadata": {},
          "execution_count": 5
        }
      ]
    },
    {
      "cell_type": "code",
      "metadata": {
        "id": "x5qiL9K-GGl6",
        "colab": {
          "base_uri": "https://localhost:8080/",
          "height": 0
        },
        "outputId": "ad6e9191-da83-4057-85f7-9cf8793392d2"
      },
      "source": [
        "print(data.shape, \"\\n\\n\")"
      ],
      "execution_count": 6,
      "outputs": [
        {
          "output_type": "stream",
          "name": "stdout",
          "text": [
            "(4410, 29) \n",
            "\n",
            "\n"
          ]
        }
      ]
    },
    {
      "cell_type": "markdown",
      "metadata": {
        "id": "A93UcrNJGNu8"
      },
      "source": [
        "\n",
        "## **Print the shape of the data**\n",
        "> 4410 rows\n",
        "\n",
        "> 29 columns"
      ]
    },
    {
      "cell_type": "markdown",
      "metadata": {
        "id": "mBK7fDSJGn33"
      },
      "source": [
        "Column Names\n",
        "\n",
        "\n",
        "\n",
        "1. Age\t\n",
        "2. Attrition\t\n",
        "3. Business Travel\t\n",
        "4. Department\t\n",
        "5. Distance From Home\t\n",
        "6. Education\t\n",
        "7. Education Field\n",
        "8. Employee Count\n",
        "9. Employee ID\t\n",
        "10. Gender\t\n",
        "11. Job Level\t\n",
        "12. Job Role\t\n",
        "13. Marital Status\t\n",
        "14. Monthly Income\t\n",
        "15. Num Companies Worked\t\n",
        "16. Over18\n",
        "17. Percent Salary Hike\t\n",
        "18. Standard Hours\t\n",
        "19. Stock Option Level\t\n",
        "20. Total Working Years\t\n",
        "21. Training Times Last Year\t\n",
        "22. Years At Company\t\n",
        "23. Years Since Last Promotion\t\n",
        "24. Years With Curr Manager\t\n",
        "25. Environment Satisfaction\t\n",
        "26. Job Satisfaction\t\n",
        "27. Work Life Balance\t\n",
        "28. Job Involvement\t\n",
        "29. Performance Rating\n",
        "\n"
      ]
    },
    {
      "cell_type": "code",
      "metadata": {
        "colab": {
          "base_uri": "https://localhost:8080/",
          "height": 0
        },
        "id": "U0wHD5qU80uM",
        "outputId": "8c0fa31d-a57b-4bf2-a2e6-c346e1c9dd33"
      },
      "source": [
        "print(data.shape, \"\\n\\n\")"
      ],
      "execution_count": 7,
      "outputs": [
        {
          "output_type": "stream",
          "name": "stdout",
          "text": [
            "(4410, 29) \n",
            "\n",
            "\n"
          ]
        }
      ]
    },
    {
      "cell_type": "markdown",
      "metadata": {
        "id": "LlyWRrylAAWj"
      },
      "source": [
        "## **View `Attrition` balance**"
      ]
    },
    {
      "cell_type": "code",
      "metadata": {
        "id": "LK6dFlj1MIbw",
        "colab": {
          "base_uri": "https://localhost:8080/",
          "height": 331
        },
        "outputId": "3b06837d-3014-4af2-a82e-3c7c0b56c378"
      },
      "source": [
        "hr_df = pd.DataFrame(data)\n",
        "\n",
        "sb.countplot(x='Attrition', data=data, palette='hls')\n",
        "\n",
        "hr_df['Attrition'].value_counts()"
      ],
      "execution_count": 8,
      "outputs": [
        {
          "output_type": "execute_result",
          "data": {
            "text/plain": [
              "No     3699\n",
              "Yes     711\n",
              "Name: Attrition, dtype: int64"
            ]
          },
          "metadata": {},
          "execution_count": 8
        },
        {
          "output_type": "display_data",
          "data": {
            "image/png": "[encoded data removed]",
            "text/plain": [
              "<Figure size 432x288 with 1 Axes>"
            ]
          },
          "metadata": {
            "needs_background": "light"
          }
        }
      ]
    },
    {
      "cell_type": "markdown",
      "metadata": {
        "id": "K9nq3jyKJX7D"
      },
      "source": [
        "## **List Columns with Null Values**"
      ]
    },
    {
      "cell_type": "code",
      "metadata": {
        "id": "70_4cziCJXiC",
        "colab": {
          "base_uri": "https://localhost:8080/",
          "height": 0
        },
        "outputId": "5b07a847-a687-4f5f-c5c1-5082a73d0434"
      },
      "source": [
        "data.isnull().sum(axis=0)"
      ],
      "execution_count": 9,
      "outputs": [
        {
          "output_type": "execute_result",
          "data": {
            "text/plain": [
              "Age                         0\n",
              "Attrition                   0\n",
              "BusinessTravel              0\n",
              "Department                  0\n",
              "DistanceFromHome            0\n",
              "Education                   0\n",
              "EducationField              0\n",
              "EmployeeCount               0\n",
              "EmployeeID                  0\n",
              "Gender                      0\n",
              "JobLevel                    0\n",
              "JobRole                     0\n",
              "MaritalStatus               0\n",
              "MonthlyIncome               0\n",
              "NumCompaniesWorked         19\n",
              "Over18                      0\n",
              "PercentSalaryHike           0\n",
              "StandardHours               0\n",
              "StockOptionLevel            0\n",
              "TotalWorkingYears           9\n",
              "TrainingTimesLastYear       0\n",
              "YearsAtCompany              0\n",
              "YearsSinceLastPromotion     0\n",
              "YearsWithCurrManager        0\n",
              "EnvironmentSatisfaction    25\n",
              "JobSatisfaction            20\n",
              "WorkLifeBalance            38\n",
              "JobInvolvement              0\n",
              "PerformanceRating           0\n",
              "dtype: int64"
            ]
          },
          "metadata": {},
          "execution_count": 9
        }
      ]
    },
    {
      "cell_type": "markdown",
      "metadata": {
        "id": "NvmYerxLJgPW"
      },
      "source": [
        "## **Remove Null Values**"
      ]
    },
    {
      "cell_type": "code",
      "metadata": {
        "id": "erxWP0cBJf0o",
        "colab": {
          "base_uri": "https://localhost:8080/",
          "height": 0
        },
        "outputId": "5db188ba-0ca6-4a5d-e73a-8965967ca557"
      },
      "source": [
        "data = data.dropna()  #Remove records with NULL values\n",
        "data.isnull().sum(axis=0)  #Verify NULL values are removed from dataset "
      ],
      "execution_count": 10,
      "outputs": [
        {
          "output_type": "execute_result",
          "data": {
            "text/plain": [
              "Age                        0\n",
              "Attrition                  0\n",
              "BusinessTravel             0\n",
              "Department                 0\n",
              "DistanceFromHome           0\n",
              "Education                  0\n",
              "EducationField             0\n",
              "EmployeeCount              0\n",
              "EmployeeID                 0\n",
              "Gender                     0\n",
              "JobLevel                   0\n",
              "JobRole                    0\n",
              "MaritalStatus              0\n",
              "MonthlyIncome              0\n",
              "NumCompaniesWorked         0\n",
              "Over18                     0\n",
              "PercentSalaryHike          0\n",
              "StandardHours              0\n",
              "StockOptionLevel           0\n",
              "TotalWorkingYears          0\n",
              "TrainingTimesLastYear      0\n",
              "YearsAtCompany             0\n",
              "YearsSinceLastPromotion    0\n",
              "YearsWithCurrManager       0\n",
              "EnvironmentSatisfaction    0\n",
              "JobSatisfaction            0\n",
              "WorkLifeBalance            0\n",
              "JobInvolvement             0\n",
              "PerformanceRating          0\n",
              "dtype: int64"
            ]
          },
          "metadata": {},
          "execution_count": 10
        }
      ]
    },
    {
      "cell_type": "markdown",
      "metadata": {
        "id": "DgrtGAGrJmyx"
      },
      "source": [
        "## **Drop Duplicate Data**"
      ]
    },
    {
      "cell_type": "code",
      "metadata": {
        "id": "lfvrtsyDJl6f"
      },
      "source": [
        "data = data.drop_duplicates()"
      ],
      "execution_count": 11,
      "outputs": []
    },
    {
      "cell_type": "markdown",
      "metadata": {
        "id": "EOP9BjAgJtJr"
      },
      "source": [
        "## **Reshape**"
      ]
    },
    {
      "cell_type": "code",
      "metadata": {
        "id": "CvfG_nDoJt_Y",
        "colab": {
          "base_uri": "https://localhost:8080/",
          "height": 0
        },
        "outputId": "6f0220ef-7235-44c0-9a71-66b92ce96116"
      },
      "source": [
        "data.shape"
      ],
      "execution_count": 12,
      "outputs": [
        {
          "output_type": "execute_result",
          "data": {
            "text/plain": [
              "(4300, 29)"
            ]
          },
          "metadata": {},
          "execution_count": 12
        }
      ]
    },
    {
      "cell_type": "markdown",
      "metadata": {
        "id": "Xe1eHDLSJ07K"
      },
      "source": [
        "Print the shape of the cleaned data\n",
        "> 4300 rows - removed 110 columns\n",
        "\n",
        "> 27 columns"
      ]
    },
    {
      "cell_type": "code",
      "metadata": {
        "id": "-PSzfGn_JA7J",
        "colab": {
          "base_uri": "https://localhost:8080/",
          "height": 0
        },
        "outputId": "3b93c39f-125e-49e5-e179-093c5d26baa9"
      },
      "source": [
        "data.info()"
      ],
      "execution_count": 13,
      "outputs": [
        {
          "output_type": "stream",
          "name": "stdout",
          "text": [
            "<class 'pandas.core.frame.DataFrame'>\n",
            "Int64Index: 4300 entries, 0 to 4408\n",
            "Data columns (total 29 columns):\n",
            " #   Column                   Non-Null Count  Dtype  \n",
            "---  ------                   --------------  -----  \n",
            " 0   Age                      4300 non-null   int64  \n",
            " 1   Attrition                4300 non-null   object \n",
            " 2   BusinessTravel           4300 non-null   object \n",
            " 3   Department               4300 non-null   object \n",
            " 4   DistanceFromHome         4300 non-null   int64  \n",
            " 5   Education                4300 non-null   int64  \n",
            " 6   EducationField           4300 non-null   object \n",
            " 7   EmployeeCount            4300 non-null   int64  \n",
            " 8   EmployeeID               4300 non-null   int64  \n",
            " 9   Gender                   4300 non-null   object \n",
            " 10  JobLevel                 4300 non-null   int64  \n",
            " 11  JobRole                  4300 non-null   object \n",
            " 12  MaritalStatus            4300 non-null   object \n",
            " 13  MonthlyIncome            4300 non-null   int64  \n",
            " 14  NumCompaniesWorked       4300 non-null   float64\n",
            " 15  Over18                   4300 non-null   object \n",
            " 16  PercentSalaryHike        4300 non-null   int64  \n",
            " 17  StandardHours            4300 non-null   int64  \n",
            " 18  StockOptionLevel         4300 non-null   int64  \n",
            " 19  TotalWorkingYears        4300 non-null   float64\n",
            " 20  TrainingTimesLastYear    4300 non-null   int64  \n",
            " 21  YearsAtCompany           4300 non-null   int64  \n",
            " 22  YearsSinceLastPromotion  4300 non-null   int64  \n",
            " 23  YearsWithCurrManager     4300 non-null   int64  \n",
            " 24  EnvironmentSatisfaction  4300 non-null   float64\n",
            " 25  JobSatisfaction          4300 non-null   float64\n",
            " 26  WorkLifeBalance          4300 non-null   float64\n",
            " 27  JobInvolvement           4300 non-null   int64  \n",
            " 28  PerformanceRating        4300 non-null   int64  \n",
            "dtypes: float64(5), int64(16), object(8)\n",
            "memory usage: 1007.8+ KB\n"
          ]
        }
      ]
    },
    {
      "cell_type": "markdown",
      "metadata": {
        "id": "ZLk7Sgxfv3rg"
      },
      "source": [
        "## **Create Boxblox to show Outliers**\n"
      ]
    },
    {
      "cell_type": "code",
      "metadata": {
        "colab": {
          "base_uri": "https://localhost:8080/",
          "height": 571
        },
        "id": "i7pe_ENzUQsw",
        "outputId": "29731f96-954f-4890-d2f6-82a25611f506"
      },
      "source": [
        "fig, axes = plt.subplots(2, 5, sharex=True, figsize=(25,8))\n",
        "\n",
        "fig.suptitle('Continuous Predictors by Attrition')\n",
        "\n",
        "sb.boxplot(ax=axes[0, 0], data=data, x='Attrition', y='Age')\n",
        "sb.boxplot(ax=axes[0, 1], data=data, x='Attrition', y='DistanceFromHome')\n",
        "sb.boxplot(ax=axes[0, 2], data=data, x='Attrition', y='JobLevel')\n",
        "sb.boxplot(ax=axes[0, 3], data=data, x='Attrition', y='MonthlyIncome')\n",
        "sb.boxplot(ax=axes[0, 4], data=data, x='Attrition', y='PercentSalaryHike')\n",
        "sb.boxplot(ax=axes[1, 0], data=data, x='Attrition', y='TotalWorkingYears')\n",
        "sb.boxplot(ax=axes[1, 1], data=data, x='Attrition', y='TrainingTimesLastYear')\n",
        "sb.boxplot(ax=axes[1, 2], data=data, x='Attrition', y='YearsAtCompany')\n",
        "sb.boxplot(ax=axes[1, 3], data=data, x='Attrition', y='YearsSinceLastPromotion')\n",
        "sb.boxplot(ax=axes[1, 4], data=data, x='Attrition', y='YearsWithCurrManager')"
      ],
      "execution_count": 14,
      "outputs": [
        {
          "output_type": "execute_result",
          "data": {
            "text/plain": [
              "<matplotlib.axes._subplots.AxesSubplot at 0x7f0ab5441590>"
            ]
          },
          "metadata": {},
          "execution_count": 14
        },
        {
          "output_type": "display_data",
          "data": {
            "image/png": "[encoded data removed]",
            "text/plain": [
              "<Figure size 1800x576 with 10 Axes>"
            ]
          },
          "metadata": {
            "needs_background": "light"
          }
        }
      ]
    },
    {
      "cell_type": "markdown",
      "metadata": {
        "id": "27PMt7_PAQ10"
      },
      "source": [
        "## **View Variable Correlations**"
      ]
    },
    {
      "cell_type": "code",
      "metadata": {
        "id": "MQz1xbZuRWM3",
        "colab": {
          "base_uri": "https://localhost:8080/",
          "height": 567
        },
        "outputId": "086b3367-ef88-459b-c760-d475daf3e36a"
      },
      "source": [
        "plt.figure(figsize=(8, 8))\n",
        "corrplot(data.corr(), size_scale=300)"
      ],
      "execution_count": 15,
      "outputs": [
        {
          "output_type": "display_data",
          "data": {
            "image/png": "[encoded data removed]",
            "text/plain": [
              "<Figure size 576x576 with 2 Axes>"
            ]
          },
          "metadata": {
            "needs_background": "light"
          }
        }
      ]
    },
    {
      "cell_type": "code",
      "metadata": {
        "colab": {
          "base_uri": "https://localhost:8080/",
          "height": 206
        },
        "id": "y22UQNCrEOIb",
        "outputId": "5501b933-7b56-4155-cf1e-2fa970c22847"
      },
      "source": [
        "data['Gender'].replace(0, 'Female',inplace=True)\n",
        "data['Gender'].replace(1, 'Male',inplace=True)\n",
        "data['Attrition'].replace(0, 'No',inplace=True)\n",
        "data['Attrition'].replace(1, 'Yes',inplace=True)\n",
        "\n",
        "\n",
        "gender_attrition = data.groupby([\"Attrition\",\"Gender\"])[[\"Gender\"]].count().rename(columns={\"Gender\":\"Count\"})\n",
        "gender_attrition"
      ],
      "execution_count": 16,
      "outputs": [
        {
          "output_type": "execute_result",
          "data": {
            "text/html": [
              "<div>\n",
              "<style scoped>\n",
              "    .dataframe tbody tr th:only-of-type {\n",
              "        vertical-align: middle;\n",
              "    }\n",
              "\n",
              "    .dataframe tbody tr th {\n",
              "        vertical-align: top;\n",
              "    }\n",
              "\n",
              "    .dataframe thead th {\n",
              "        text-align: right;\n",
              "    }\n",
              "</style>\n",
              "<table border=\"1\" class=\"dataframe\">\n",
              "  <thead>\n",
              "    <tr style=\"text-align: right;\">\n",
              "      <th></th>\n",
              "      <th></th>\n",
              "      <th>Count</th>\n",
              "    </tr>\n",
              "    <tr>\n",
              "      <th>Attrition</th>\n",
              "      <th>Gender</th>\n",
              "      <th></th>\n",
              "    </tr>\n",
              "  </thead>\n",
              "  <tbody>\n",
              "    <tr>\n",
              "      <th rowspan=\"2\" valign=\"top\">No</th>\n",
              "      <th>Female</th>\n",
              "      <td>1464</td>\n",
              "    </tr>\n",
              "    <tr>\n",
              "      <th>Male</th>\n",
              "      <td>2141</td>\n",
              "    </tr>\n",
              "    <tr>\n",
              "      <th rowspan=\"2\" valign=\"top\">Yes</th>\n",
              "      <th>Female</th>\n",
              "      <td>265</td>\n",
              "    </tr>\n",
              "    <tr>\n",
              "      <th>Male</th>\n",
              "      <td>430</td>\n",
              "    </tr>\n",
              "  </tbody>\n",
              "</table>\n",
              "</div>"
            ],
            "text/plain": [
              "                  Count\n",
              "Attrition Gender       \n",
              "No        Female   1464\n",
              "          Male     2141\n",
              "Yes       Female    265\n",
              "          Male      430"
            ]
          },
          "metadata": {},
          "execution_count": 16
        }
      ]
    },
    {
      "cell_type": "code",
      "metadata": {
        "colab": {
          "base_uri": "https://localhost:8080/",
          "height": 708
        },
        "id": "eB6SopWlhPmy",
        "outputId": "1e0abe03-4999-42c9-bccb-9db783e8a914"
      },
      "source": [
        "#data['Gender'].replace(0, 'Female',inplace=True)\n",
        "#data['Gender'].replace(1, 'Male',inplace=True)\n",
        "data['Attrition'].replace(0, 'No',inplace=True)\n",
        "data['Attrition'].replace(1, 'Yes',inplace=True)\n",
        "\n",
        "\n",
        "numcompworked_attrition = data.groupby([\"Attrition\",\"NumCompaniesWorked\"])[[\"NumCompaniesWorked\"]].count().rename(columns={\"NumCompaniesWorked\":\"Count\"})\n",
        "numcompworked_attrition"
      ],
      "execution_count": 17,
      "outputs": [
        {
          "output_type": "execute_result",
          "data": {
            "text/html": [
              "<div>\n",
              "<style scoped>\n",
              "    .dataframe tbody tr th:only-of-type {\n",
              "        vertical-align: middle;\n",
              "    }\n",
              "\n",
              "    .dataframe tbody tr th {\n",
              "        vertical-align: top;\n",
              "    }\n",
              "\n",
              "    .dataframe thead th {\n",
              "        text-align: right;\n",
              "    }\n",
              "</style>\n",
              "<table border=\"1\" class=\"dataframe\">\n",
              "  <thead>\n",
              "    <tr style=\"text-align: right;\">\n",
              "      <th></th>\n",
              "      <th></th>\n",
              "      <th>Count</th>\n",
              "    </tr>\n",
              "    <tr>\n",
              "      <th>Attrition</th>\n",
              "      <th>NumCompaniesWorked</th>\n",
              "      <th></th>\n",
              "    </tr>\n",
              "  </thead>\n",
              "  <tbody>\n",
              "    <tr>\n",
              "      <th rowspan=\"10\" valign=\"top\">No</th>\n",
              "      <th>0.0</th>\n",
              "      <td>503</td>\n",
              "    </tr>\n",
              "    <tr>\n",
              "      <th>1.0</th>\n",
              "      <td>1246</td>\n",
              "    </tr>\n",
              "    <tr>\n",
              "      <th>2.0</th>\n",
              "      <td>380</td>\n",
              "    </tr>\n",
              "    <tr>\n",
              "      <th>3.0</th>\n",
              "      <td>418</td>\n",
              "    </tr>\n",
              "    <tr>\n",
              "      <th>4.0</th>\n",
              "      <td>355</td>\n",
              "    </tr>\n",
              "    <tr>\n",
              "      <th>5.0</th>\n",
              "      <td>140</td>\n",
              "    </tr>\n",
              "    <tr>\n",
              "      <th>6.0</th>\n",
              "      <td>156</td>\n",
              "    </tr>\n",
              "    <tr>\n",
              "      <th>7.0</th>\n",
              "      <td>166</td>\n",
              "    </tr>\n",
              "    <tr>\n",
              "      <th>8.0</th>\n",
              "      <td>123</td>\n",
              "    </tr>\n",
              "    <tr>\n",
              "      <th>9.0</th>\n",
              "      <td>118</td>\n",
              "    </tr>\n",
              "    <tr>\n",
              "      <th rowspan=\"10\" valign=\"top\">Yes</th>\n",
              "      <th>0.0</th>\n",
              "      <td>67</td>\n",
              "    </tr>\n",
              "    <tr>\n",
              "      <th>1.0</th>\n",
              "      <td>289</td>\n",
              "    </tr>\n",
              "    <tr>\n",
              "      <th>2.0</th>\n",
              "      <td>47</td>\n",
              "    </tr>\n",
              "    <tr>\n",
              "      <th>3.0</th>\n",
              "      <td>48</td>\n",
              "    </tr>\n",
              "    <tr>\n",
              "      <th>4.0</th>\n",
              "      <td>49</td>\n",
              "    </tr>\n",
              "    <tr>\n",
              "      <th>5.0</th>\n",
              "      <td>45</td>\n",
              "    </tr>\n",
              "    <tr>\n",
              "      <th>6.0</th>\n",
              "      <td>45</td>\n",
              "    </tr>\n",
              "    <tr>\n",
              "      <th>7.0</th>\n",
              "      <td>51</td>\n",
              "    </tr>\n",
              "    <tr>\n",
              "      <th>8.0</th>\n",
              "      <td>18</td>\n",
              "    </tr>\n",
              "    <tr>\n",
              "      <th>9.0</th>\n",
              "      <td>36</td>\n",
              "    </tr>\n",
              "  </tbody>\n",
              "</table>\n",
              "</div>"
            ],
            "text/plain": [
              "                              Count\n",
              "Attrition NumCompaniesWorked       \n",
              "No        0.0                   503\n",
              "          1.0                  1246\n",
              "          2.0                   380\n",
              "          3.0                   418\n",
              "          4.0                   355\n",
              "          5.0                   140\n",
              "          6.0                   156\n",
              "          7.0                   166\n",
              "          8.0                   123\n",
              "          9.0                   118\n",
              "Yes       0.0                    67\n",
              "          1.0                   289\n",
              "          2.0                    47\n",
              "          3.0                    48\n",
              "          4.0                    49\n",
              "          5.0                    45\n",
              "          6.0                    45\n",
              "          7.0                    51\n",
              "          8.0                    18\n",
              "          9.0                    36"
            ]
          },
          "metadata": {},
          "execution_count": 17
        }
      ]
    },
    {
      "cell_type": "code",
      "metadata": {
        "colab": {
          "base_uri": "https://localhost:8080/",
          "height": 331
        },
        "id": "N1GjyrIph0HM",
        "outputId": "1f54c10b-5d05-4d55-d987-6feb1b60912b"
      },
      "source": [
        "#data['Gender'].replace(0, 'Female',inplace=True)\n",
        "#data['Gender'].replace(1, 'Male',inplace=True)\n",
        "data['Attrition'].replace(0, 'No',inplace=True)\n",
        "data['Attrition'].replace(1, 'Yes',inplace=True)\n",
        "\n",
        "\n",
        "JobSatisfaction_attrition = data.groupby([\"Attrition\",\"JobSatisfaction\"])[[\"JobSatisfaction\"]].count().rename(columns={\"JobSatisfaction\":\"Count\"})\n",
        "JobSatisfaction_attrition"
      ],
      "execution_count": 18,
      "outputs": [
        {
          "output_type": "execute_result",
          "data": {
            "text/html": [
              "<div>\n",
              "<style scoped>\n",
              "    .dataframe tbody tr th:only-of-type {\n",
              "        vertical-align: middle;\n",
              "    }\n",
              "\n",
              "    .dataframe tbody tr th {\n",
              "        vertical-align: top;\n",
              "    }\n",
              "\n",
              "    .dataframe thead th {\n",
              "        text-align: right;\n",
              "    }\n",
              "</style>\n",
              "<table border=\"1\" class=\"dataframe\">\n",
              "  <thead>\n",
              "    <tr style=\"text-align: right;\">\n",
              "      <th></th>\n",
              "      <th></th>\n",
              "      <th>Count</th>\n",
              "    </tr>\n",
              "    <tr>\n",
              "      <th>Attrition</th>\n",
              "      <th>JobSatisfaction</th>\n",
              "      <th></th>\n",
              "    </tr>\n",
              "  </thead>\n",
              "  <tbody>\n",
              "    <tr>\n",
              "      <th rowspan=\"4\" valign=\"top\">No</th>\n",
              "      <th>1.0</th>\n",
              "      <td>653</td>\n",
              "    </tr>\n",
              "    <tr>\n",
              "      <th>2.0</th>\n",
              "      <td>688</td>\n",
              "    </tr>\n",
              "    <tr>\n",
              "      <th>3.0</th>\n",
              "      <td>1082</td>\n",
              "    </tr>\n",
              "    <tr>\n",
              "      <th>4.0</th>\n",
              "      <td>1182</td>\n",
              "    </tr>\n",
              "    <tr>\n",
              "      <th rowspan=\"4\" valign=\"top\">Yes</th>\n",
              "      <th>1.0</th>\n",
              "      <td>194</td>\n",
              "    </tr>\n",
              "    <tr>\n",
              "      <th>2.0</th>\n",
              "      <td>135</td>\n",
              "    </tr>\n",
              "    <tr>\n",
              "      <th>3.0</th>\n",
              "      <td>214</td>\n",
              "    </tr>\n",
              "    <tr>\n",
              "      <th>4.0</th>\n",
              "      <td>152</td>\n",
              "    </tr>\n",
              "  </tbody>\n",
              "</table>\n",
              "</div>"
            ],
            "text/plain": [
              "                           Count\n",
              "Attrition JobSatisfaction       \n",
              "No        1.0                653\n",
              "          2.0                688\n",
              "          3.0               1082\n",
              "          4.0               1182\n",
              "Yes       1.0                194\n",
              "          2.0                135\n",
              "          3.0                214\n",
              "          4.0                152"
            ]
          },
          "metadata": {},
          "execution_count": 18
        }
      ]
    },
    {
      "cell_type": "code",
      "metadata": {
        "colab": {
          "base_uri": "https://localhost:8080/",
          "height": 331
        },
        "id": "ZXy4dEqHiWPM",
        "outputId": "70f7f0d0-b5e5-4be8-98da-316e91e1239a"
      },
      "source": [
        "data['Attrition'].replace(0, 'No',inplace=True)\n",
        "data['Attrition'].replace(1, 'Yes',inplace=True)\n",
        "\n",
        "\n",
        "WorkLifeBalance_attrition = data.groupby([\"Attrition\",\"WorkLifeBalance\"])[[\"WorkLifeBalance\"]].count().rename(columns={\"WorkLifeBalance\":\"Count\"})\n",
        "WorkLifeBalance_attrition"
      ],
      "execution_count": 19,
      "outputs": [
        {
          "output_type": "execute_result",
          "data": {
            "text/html": [
              "<div>\n",
              "<style scoped>\n",
              "    .dataframe tbody tr th:only-of-type {\n",
              "        vertical-align: middle;\n",
              "    }\n",
              "\n",
              "    .dataframe tbody tr th {\n",
              "        vertical-align: top;\n",
              "    }\n",
              "\n",
              "    .dataframe thead th {\n",
              "        text-align: right;\n",
              "    }\n",
              "</style>\n",
              "<table border=\"1\" class=\"dataframe\">\n",
              "  <thead>\n",
              "    <tr style=\"text-align: right;\">\n",
              "      <th></th>\n",
              "      <th></th>\n",
              "      <th>Count</th>\n",
              "    </tr>\n",
              "    <tr>\n",
              "      <th>Attrition</th>\n",
              "      <th>WorkLifeBalance</th>\n",
              "      <th></th>\n",
              "    </tr>\n",
              "  </thead>\n",
              "  <tbody>\n",
              "    <tr>\n",
              "      <th rowspan=\"4\" valign=\"top\">No</th>\n",
              "      <th>1.0</th>\n",
              "      <td>163</td>\n",
              "    </tr>\n",
              "    <tr>\n",
              "      <th>2.0</th>\n",
              "      <td>838</td>\n",
              "    </tr>\n",
              "    <tr>\n",
              "      <th>3.0</th>\n",
              "      <td>2234</td>\n",
              "    </tr>\n",
              "    <tr>\n",
              "      <th>4.0</th>\n",
              "      <td>370</td>\n",
              "    </tr>\n",
              "    <tr>\n",
              "      <th rowspan=\"4\" valign=\"top\">Yes</th>\n",
              "      <th>1.0</th>\n",
              "      <td>73</td>\n",
              "    </tr>\n",
              "    <tr>\n",
              "      <th>2.0</th>\n",
              "      <td>167</td>\n",
              "    </tr>\n",
              "    <tr>\n",
              "      <th>3.0</th>\n",
              "      <td>375</td>\n",
              "    </tr>\n",
              "    <tr>\n",
              "      <th>4.0</th>\n",
              "      <td>80</td>\n",
              "    </tr>\n",
              "  </tbody>\n",
              "</table>\n",
              "</div>"
            ],
            "text/plain": [
              "                           Count\n",
              "Attrition WorkLifeBalance       \n",
              "No        1.0                163\n",
              "          2.0                838\n",
              "          3.0               2234\n",
              "          4.0                370\n",
              "Yes       1.0                 73\n",
              "          2.0                167\n",
              "          3.0                375\n",
              "          4.0                 80"
            ]
          },
          "metadata": {},
          "execution_count": 19
        }
      ]
    },
    {
      "cell_type": "code",
      "metadata": {
        "colab": {
          "base_uri": "https://localhost:8080/",
          "height": 331
        },
        "id": "zUQrQ-O0irPj",
        "outputId": "e44a9241-fc1e-45a5-e575-549b1a6a73bf"
      },
      "source": [
        "data['Attrition'].replace(0, 'No',inplace=True)\n",
        "data['Attrition'].replace(1, 'Yes',inplace=True)\n",
        "\n",
        "\n",
        "EnvironmentSatisfaction_attrition = data.groupby([\"Attrition\",\"EnvironmentSatisfaction\"])[[\"EnvironmentSatisfaction\"]].count().rename(columns={\"EnvironmentSatisfaction\":\"Count\"})\n",
        "EnvironmentSatisfaction_attrition"
      ],
      "execution_count": 20,
      "outputs": [
        {
          "output_type": "execute_result",
          "data": {
            "text/html": [
              "<div>\n",
              "<style scoped>\n",
              "    .dataframe tbody tr th:only-of-type {\n",
              "        vertical-align: middle;\n",
              "    }\n",
              "\n",
              "    .dataframe tbody tr th {\n",
              "        vertical-align: top;\n",
              "    }\n",
              "\n",
              "    .dataframe thead th {\n",
              "        text-align: right;\n",
              "    }\n",
              "</style>\n",
              "<table border=\"1\" class=\"dataframe\">\n",
              "  <thead>\n",
              "    <tr style=\"text-align: right;\">\n",
              "      <th></th>\n",
              "      <th></th>\n",
              "      <th>Count</th>\n",
              "    </tr>\n",
              "    <tr>\n",
              "      <th>Attrition</th>\n",
              "      <th>EnvironmentSatisfaction</th>\n",
              "      <th></th>\n",
              "    </tr>\n",
              "  </thead>\n",
              "  <tbody>\n",
              "    <tr>\n",
              "      <th rowspan=\"4\" valign=\"top\">No</th>\n",
              "      <th>1.0</th>\n",
              "      <td>619</td>\n",
              "    </tr>\n",
              "    <tr>\n",
              "      <th>2.0</th>\n",
              "      <td>713</td>\n",
              "    </tr>\n",
              "    <tr>\n",
              "      <th>3.0</th>\n",
              "      <td>1138</td>\n",
              "    </tr>\n",
              "    <tr>\n",
              "      <th>4.0</th>\n",
              "      <td>1135</td>\n",
              "    </tr>\n",
              "    <tr>\n",
              "      <th rowspan=\"4\" valign=\"top\">Yes</th>\n",
              "      <th>1.0</th>\n",
              "      <td>211</td>\n",
              "    </tr>\n",
              "    <tr>\n",
              "      <th>2.0</th>\n",
              "      <td>126</td>\n",
              "    </tr>\n",
              "    <tr>\n",
              "      <th>3.0</th>\n",
              "      <td>181</td>\n",
              "    </tr>\n",
              "    <tr>\n",
              "      <th>4.0</th>\n",
              "      <td>177</td>\n",
              "    </tr>\n",
              "  </tbody>\n",
              "</table>\n",
              "</div>"
            ],
            "text/plain": [
              "                                   Count\n",
              "Attrition EnvironmentSatisfaction       \n",
              "No        1.0                        619\n",
              "          2.0                        713\n",
              "          3.0                       1138\n",
              "          4.0                       1135\n",
              "Yes       1.0                        211\n",
              "          2.0                        126\n",
              "          3.0                        181\n",
              "          4.0                        177"
            ]
          },
          "metadata": {},
          "execution_count": 20
        }
      ]
    },
    {
      "cell_type": "markdown",
      "metadata": {
        "id": "ntFnb9E_ezqU"
      },
      "source": [
        "### **Additional Data Exploration Numerical Predictor Histograms**"
      ]
    },
    {
      "cell_type": "code",
      "metadata": {
        "colab": {
          "base_uri": "https://localhost:8080/",
          "height": 828
        },
        "id": "tpkOlIfTCdqq",
        "outputId": "46480009-0bb2-42ea-9d78-73680c0457b4"
      },
      "source": [
        "#Add Additional Data Exploration Charts\n",
        "sb.set(style=\"darkgrid\")\n",
        "fig, axs = plt.subplots(3,4, figsize=(14, 14))\n",
        "\n",
        "data_subset = data[['Age', 'DistanceFromHome', 'Education', 'JobLevel' ,'MonthlyIncome', 'PercentSalaryHike', 'TotalWorkingYears','TrainingTimesLastYear', 'YearsAtCompany', 'YearsSinceLastPromotion', 'YearsWithCurrManager']]\n",
        "sb.histplot(data_subset, x=\"Age\", kde=True, color=\"skyblue\", ax=axs[0, 0])\n",
        "sb.histplot(data_subset, x=\"DistanceFromHome\", kde=True, color=\"gold\", ax=axs[0, 1])\n",
        "sb.histplot(data_subset, x=\"Education\", kde=True, color=\"red\", ax=axs[0, 2])\n",
        "sb.histplot(data_subset, x=\"JobLevel\", kde=True, color=\"purple\", ax=axs[0, 3])\n",
        "sb.histplot(data_subset, x=\"MonthlyIncome\", kde=True, color=\"navy\", ax=axs[1, 0])\n",
        "sb.histplot(data_subset, x=\"PercentSalaryHike\", kde=True, color=\"grey\", ax=axs[1, 1])\n",
        "sb.histplot(data_subset, x=\"TotalWorkingYears\", kde=True, color=\"purple\", ax=axs[1, 2])\n",
        "sb.histplot(data_subset, x=\"TrainingTimesLastYear\", kde=True, color=\"gold\", ax=axs[1, 3])\n",
        "sb.histplot(data_subset, x=\"YearsAtCompany\", kde=True, color=\"navy\", ax=axs[2, 0])\n",
        "sb.histplot(data_subset, x=\"YearsSinceLastPromotion\", kde=True, color=\"grey\", ax=axs[2, 1])\n",
        "sb.histplot(data_subset, x=\"YearsWithCurrManager\", kde=True, color=\"purple\", ax=axs[2, 2])\n",
        "\n",
        "\n",
        "plt.show()"
      ],
      "execution_count": 21,
      "outputs": [
        {
          "output_type": "display_data",
          "data": {
            "image/png": "[encoded data removed]",
            "text/plain": [
              "<Figure size 1008x1008 with 12 Axes>"
            ]
          },
          "metadata": {}
        }
      ]
    },
    {
      "cell_type": "markdown",
      "metadata": {
        "id": "0SvCgW5s7L1C"
      },
      "source": [
        "## **Dropping columns `EmployeeCount`, `Over18`, and `StandardHours` not needed for Model Creation**"
      ]
    },
    {
      "cell_type": "code",
      "metadata": {
        "colab": {
          "base_uri": "https://localhost:8080/",
          "height": 312
        },
        "id": "2Yd0idmG7P4f",
        "outputId": "14a8da94-892b-497e-cd30-ee125aee98ab"
      },
      "source": [
        "data = data.drop(columns=['EmployeeCount', 'Over18', 'StandardHours'])\n",
        "data.head()"
      ],
      "execution_count": 22,
      "outputs": [
        {
          "output_type": "execute_result",
          "data": {
            "text/html": [
              "<div>\n",
              "<style scoped>\n",
              "    .dataframe tbody tr th:only-of-type {\n",
              "        vertical-align: middle;\n",
              "    }\n",
              "\n",
              "    .dataframe tbody tr th {\n",
              "        vertical-align: top;\n",
              "    }\n",
              "\n",
              "    .dataframe thead th {\n",
              "        text-align: right;\n",
              "    }\n",
              "</style>\n",
              "<table border=\"1\" class=\"dataframe\">\n",
              "  <thead>\n",
              "    <tr style=\"text-align: right;\">\n",
              "      <th></th>\n",
              "      <th>Age</th>\n",
              "      <th>Attrition</th>\n",
              "      <th>BusinessTravel</th>\n",
              "      <th>Department</th>\n",
              "      <th>DistanceFromHome</th>\n",
              "      <th>Education</th>\n",
              "      <th>EducationField</th>\n",
              "      <th>EmployeeID</th>\n",
              "      <th>Gender</th>\n",
              "      <th>JobLevel</th>\n",
              "      <th>JobRole</th>\n",
              "      <th>MaritalStatus</th>\n",
              "      <th>MonthlyIncome</th>\n",
              "      <th>NumCompaniesWorked</th>\n",
              "      <th>PercentSalaryHike</th>\n",
              "      <th>StockOptionLevel</th>\n",
              "      <th>TotalWorkingYears</th>\n",
              "      <th>TrainingTimesLastYear</th>\n",
              "      <th>YearsAtCompany</th>\n",
              "      <th>YearsSinceLastPromotion</th>\n",
              "      <th>YearsWithCurrManager</th>\n",
              "      <th>EnvironmentSatisfaction</th>\n",
              "      <th>JobSatisfaction</th>\n",
              "      <th>WorkLifeBalance</th>\n",
              "      <th>JobInvolvement</th>\n",
              "      <th>PerformanceRating</th>\n",
              "    </tr>\n",
              "  </thead>\n",
              "  <tbody>\n",
              "    <tr>\n",
              "      <th>0</th>\n",
              "      <td>51</td>\n",
              "      <td>No</td>\n",
              "      <td>Travel_Rarely</td>\n",
              "      <td>Sales</td>\n",
              "      <td>6</td>\n",
              "      <td>2</td>\n",
              "      <td>Life Sciences</td>\n",
              "      <td>1</td>\n",
              "      <td>Female</td>\n",
              "      <td>1</td>\n",
              "      <td>Healthcare Representative</td>\n",
              "      <td>Married</td>\n",
              "      <td>131160</td>\n",
              "      <td>1.0</td>\n",
              "      <td>11</td>\n",
              "      <td>0</td>\n",
              "      <td>1.0</td>\n",
              "      <td>6</td>\n",
              "      <td>1</td>\n",
              "      <td>0</td>\n",
              "      <td>0</td>\n",
              "      <td>3.0</td>\n",
              "      <td>4.0</td>\n",
              "      <td>2.0</td>\n",
              "      <td>3</td>\n",
              "      <td>3</td>\n",
              "    </tr>\n",
              "    <tr>\n",
              "      <th>1</th>\n",
              "      <td>31</td>\n",
              "      <td>Yes</td>\n",
              "      <td>Travel_Frequently</td>\n",
              "      <td>Research &amp; Development</td>\n",
              "      <td>10</td>\n",
              "      <td>1</td>\n",
              "      <td>Life Sciences</td>\n",
              "      <td>2</td>\n",
              "      <td>Female</td>\n",
              "      <td>1</td>\n",
              "      <td>Research Scientist</td>\n",
              "      <td>Single</td>\n",
              "      <td>41890</td>\n",
              "      <td>0.0</td>\n",
              "      <td>23</td>\n",
              "      <td>1</td>\n",
              "      <td>6.0</td>\n",
              "      <td>3</td>\n",
              "      <td>5</td>\n",
              "      <td>1</td>\n",
              "      <td>4</td>\n",
              "      <td>3.0</td>\n",
              "      <td>2.0</td>\n",
              "      <td>4.0</td>\n",
              "      <td>2</td>\n",
              "      <td>4</td>\n",
              "    </tr>\n",
              "    <tr>\n",
              "      <th>2</th>\n",
              "      <td>32</td>\n",
              "      <td>No</td>\n",
              "      <td>Travel_Frequently</td>\n",
              "      <td>Research &amp; Development</td>\n",
              "      <td>17</td>\n",
              "      <td>4</td>\n",
              "      <td>Other</td>\n",
              "      <td>3</td>\n",
              "      <td>Male</td>\n",
              "      <td>4</td>\n",
              "      <td>Sales Executive</td>\n",
              "      <td>Married</td>\n",
              "      <td>193280</td>\n",
              "      <td>1.0</td>\n",
              "      <td>15</td>\n",
              "      <td>3</td>\n",
              "      <td>5.0</td>\n",
              "      <td>2</td>\n",
              "      <td>5</td>\n",
              "      <td>0</td>\n",
              "      <td>3</td>\n",
              "      <td>2.0</td>\n",
              "      <td>2.0</td>\n",
              "      <td>1.0</td>\n",
              "      <td>3</td>\n",
              "      <td>3</td>\n",
              "    </tr>\n",
              "    <tr>\n",
              "      <th>3</th>\n",
              "      <td>38</td>\n",
              "      <td>No</td>\n",
              "      <td>Non-Travel</td>\n",
              "      <td>Research &amp; Development</td>\n",
              "      <td>2</td>\n",
              "      <td>5</td>\n",
              "      <td>Life Sciences</td>\n",
              "      <td>4</td>\n",
              "      <td>Male</td>\n",
              "      <td>3</td>\n",
              "      <td>Human Resources</td>\n",
              "      <td>Married</td>\n",
              "      <td>83210</td>\n",
              "      <td>3.0</td>\n",
              "      <td>11</td>\n",
              "      <td>3</td>\n",
              "      <td>13.0</td>\n",
              "      <td>5</td>\n",
              "      <td>8</td>\n",
              "      <td>7</td>\n",
              "      <td>5</td>\n",
              "      <td>4.0</td>\n",
              "      <td>4.0</td>\n",
              "      <td>3.0</td>\n",
              "      <td>2</td>\n",
              "      <td>3</td>\n",
              "    </tr>\n",
              "    <tr>\n",
              "      <th>4</th>\n",
              "      <td>32</td>\n",
              "      <td>No</td>\n",
              "      <td>Travel_Rarely</td>\n",
              "      <td>Research &amp; Development</td>\n",
              "      <td>10</td>\n",
              "      <td>1</td>\n",
              "      <td>Medical</td>\n",
              "      <td>5</td>\n",
              "      <td>Male</td>\n",
              "      <td>1</td>\n",
              "      <td>Sales Executive</td>\n",
              "      <td>Single</td>\n",
              "      <td>23420</td>\n",
              "      <td>4.0</td>\n",
              "      <td>12</td>\n",
              "      <td>2</td>\n",
              "      <td>9.0</td>\n",
              "      <td>2</td>\n",
              "      <td>6</td>\n",
              "      <td>0</td>\n",
              "      <td>4</td>\n",
              "      <td>4.0</td>\n",
              "      <td>1.0</td>\n",
              "      <td>3.0</td>\n",
              "      <td>3</td>\n",
              "      <td>3</td>\n",
              "    </tr>\n",
              "  </tbody>\n",
              "</table>\n",
              "</div>"
            ],
            "text/plain": [
              "   Age Attrition  ... JobInvolvement PerformanceRating\n",
              "0   51        No  ...              3                 3\n",
              "1   31       Yes  ...              2                 4\n",
              "2   32        No  ...              3                 3\n",
              "3   38        No  ...              2                 3\n",
              "4   32        No  ...              3                 3\n",
              "\n",
              "[5 rows x 26 columns]"
            ]
          },
          "metadata": {},
          "execution_count": 22
        }
      ]
    },
    {
      "cell_type": "markdown",
      "metadata": {
        "id": "xZ0oBt1nWVW8"
      },
      "source": [
        "## **Change `Attrition` to binary**"
      ]
    },
    {
      "cell_type": "code",
      "metadata": {
        "colab": {
          "base_uri": "https://localhost:8080/",
          "height": 312
        },
        "id": "0DHX17k39klj",
        "outputId": "8902a8a8-13c7-4581-e4c7-086e3b53274a"
      },
      "source": [
        "data['Attrition']= pd.Series(np.where(data.Attrition.values == 'Yes', 1, 0),\n",
        "          data.index)\n",
        "data.head(5)"
      ],
      "execution_count": 23,
      "outputs": [
        {
          "output_type": "execute_result",
          "data": {
            "text/html": [
              "<div>\n",
              "<style scoped>\n",
              "    .dataframe tbody tr th:only-of-type {\n",
              "        vertical-align: middle;\n",
              "    }\n",
              "\n",
              "    .dataframe tbody tr th {\n",
              "        vertical-align: top;\n",
              "    }\n",
              "\n",
              "    .dataframe thead th {\n",
              "        text-align: right;\n",
              "    }\n",
              "</style>\n",
              "<table border=\"1\" class=\"dataframe\">\n",
              "  <thead>\n",
              "    <tr style=\"text-align: right;\">\n",
              "      <th></th>\n",
              "      <th>Age</th>\n",
              "      <th>Attrition</th>\n",
              "      <th>BusinessTravel</th>\n",
              "      <th>Department</th>\n",
              "      <th>DistanceFromHome</th>\n",
              "      <th>Education</th>\n",
              "      <th>EducationField</th>\n",
              "      <th>EmployeeID</th>\n",
              "      <th>Gender</th>\n",
              "      <th>JobLevel</th>\n",
              "      <th>JobRole</th>\n",
              "      <th>MaritalStatus</th>\n",
              "      <th>MonthlyIncome</th>\n",
              "      <th>NumCompaniesWorked</th>\n",
              "      <th>PercentSalaryHike</th>\n",
              "      <th>StockOptionLevel</th>\n",
              "      <th>TotalWorkingYears</th>\n",
              "      <th>TrainingTimesLastYear</th>\n",
              "      <th>YearsAtCompany</th>\n",
              "      <th>YearsSinceLastPromotion</th>\n",
              "      <th>YearsWithCurrManager</th>\n",
              "      <th>EnvironmentSatisfaction</th>\n",
              "      <th>JobSatisfaction</th>\n",
              "      <th>WorkLifeBalance</th>\n",
              "      <th>JobInvolvement</th>\n",
              "      <th>PerformanceRating</th>\n",
              "    </tr>\n",
              "  </thead>\n",
              "  <tbody>\n",
              "    <tr>\n",
              "      <th>0</th>\n",
              "      <td>51</td>\n",
              "      <td>0</td>\n",
              "      <td>Travel_Rarely</td>\n",
              "      <td>Sales</td>\n",
              "      <td>6</td>\n",
              "      <td>2</td>\n",
              "      <td>Life Sciences</td>\n",
              "      <td>1</td>\n",
              "      <td>Female</td>\n",
              "      <td>1</td>\n",
              "      <td>Healthcare Representative</td>\n",
              "      <td>Married</td>\n",
              "      <td>131160</td>\n",
              "      <td>1.0</td>\n",
              "      <td>11</td>\n",
              "      <td>0</td>\n",
              "      <td>1.0</td>\n",
              "      <td>6</td>\n",
              "      <td>1</td>\n",
              "      <td>0</td>\n",
              "      <td>0</td>\n",
              "      <td>3.0</td>\n",
              "      <td>4.0</td>\n",
              "      <td>2.0</td>\n",
              "      <td>3</td>\n",
              "      <td>3</td>\n",
              "    </tr>\n",
              "    <tr>\n",
              "      <th>1</th>\n",
              "      <td>31</td>\n",
              "      <td>1</td>\n",
              "      <td>Travel_Frequently</td>\n",
              "      <td>Research &amp; Development</td>\n",
              "      <td>10</td>\n",
              "      <td>1</td>\n",
              "      <td>Life Sciences</td>\n",
              "      <td>2</td>\n",
              "      <td>Female</td>\n",
              "      <td>1</td>\n",
              "      <td>Research Scientist</td>\n",
              "      <td>Single</td>\n",
              "      <td>41890</td>\n",
              "      <td>0.0</td>\n",
              "      <td>23</td>\n",
              "      <td>1</td>\n",
              "      <td>6.0</td>\n",
              "      <td>3</td>\n",
              "      <td>5</td>\n",
              "      <td>1</td>\n",
              "      <td>4</td>\n",
              "      <td>3.0</td>\n",
              "      <td>2.0</td>\n",
              "      <td>4.0</td>\n",
              "      <td>2</td>\n",
              "      <td>4</td>\n",
              "    </tr>\n",
              "    <tr>\n",
              "      <th>2</th>\n",
              "      <td>32</td>\n",
              "      <td>0</td>\n",
              "      <td>Travel_Frequently</td>\n",
              "      <td>Research &amp; Development</td>\n",
              "      <td>17</td>\n",
              "      <td>4</td>\n",
              "      <td>Other</td>\n",
              "      <td>3</td>\n",
              "      <td>Male</td>\n",
              "      <td>4</td>\n",
              "      <td>Sales Executive</td>\n",
              "      <td>Married</td>\n",
              "      <td>193280</td>\n",
              "      <td>1.0</td>\n",
              "      <td>15</td>\n",
              "      <td>3</td>\n",
              "      <td>5.0</td>\n",
              "      <td>2</td>\n",
              "      <td>5</td>\n",
              "      <td>0</td>\n",
              "      <td>3</td>\n",
              "      <td>2.0</td>\n",
              "      <td>2.0</td>\n",
              "      <td>1.0</td>\n",
              "      <td>3</td>\n",
              "      <td>3</td>\n",
              "    </tr>\n",
              "    <tr>\n",
              "      <th>3</th>\n",
              "      <td>38</td>\n",
              "      <td>0</td>\n",
              "      <td>Non-Travel</td>\n",
              "      <td>Research &amp; Development</td>\n",
              "      <td>2</td>\n",
              "      <td>5</td>\n",
              "      <td>Life Sciences</td>\n",
              "      <td>4</td>\n",
              "      <td>Male</td>\n",
              "      <td>3</td>\n",
              "      <td>Human Resources</td>\n",
              "      <td>Married</td>\n",
              "      <td>83210</td>\n",
              "      <td>3.0</td>\n",
              "      <td>11</td>\n",
              "      <td>3</td>\n",
              "      <td>13.0</td>\n",
              "      <td>5</td>\n",
              "      <td>8</td>\n",
              "      <td>7</td>\n",
              "      <td>5</td>\n",
              "      <td>4.0</td>\n",
              "      <td>4.0</td>\n",
              "      <td>3.0</td>\n",
              "      <td>2</td>\n",
              "      <td>3</td>\n",
              "    </tr>\n",
              "    <tr>\n",
              "      <th>4</th>\n",
              "      <td>32</td>\n",
              "      <td>0</td>\n",
              "      <td>Travel_Rarely</td>\n",
              "      <td>Research &amp; Development</td>\n",
              "      <td>10</td>\n",
              "      <td>1</td>\n",
              "      <td>Medical</td>\n",
              "      <td>5</td>\n",
              "      <td>Male</td>\n",
              "      <td>1</td>\n",
              "      <td>Sales Executive</td>\n",
              "      <td>Single</td>\n",
              "      <td>23420</td>\n",
              "      <td>4.0</td>\n",
              "      <td>12</td>\n",
              "      <td>2</td>\n",
              "      <td>9.0</td>\n",
              "      <td>2</td>\n",
              "      <td>6</td>\n",
              "      <td>0</td>\n",
              "      <td>4</td>\n",
              "      <td>4.0</td>\n",
              "      <td>1.0</td>\n",
              "      <td>3.0</td>\n",
              "      <td>3</td>\n",
              "      <td>3</td>\n",
              "    </tr>\n",
              "  </tbody>\n",
              "</table>\n",
              "</div>"
            ],
            "text/plain": [
              "   Age  Attrition  ... JobInvolvement PerformanceRating\n",
              "0   51          0  ...              3                 3\n",
              "1   31          1  ...              2                 4\n",
              "2   32          0  ...              3                 3\n",
              "3   38          0  ...              2                 3\n",
              "4   32          0  ...              3                 3\n",
              "\n",
              "[5 rows x 26 columns]"
            ]
          },
          "metadata": {},
          "execution_count": 23
        }
      ]
    },
    {
      "cell_type": "markdown",
      "metadata": {
        "id": "sM_bV-8_ti5t"
      },
      "source": [
        "## **Feature Engineering**"
      ]
    },
    {
      "cell_type": "code",
      "metadata": {
        "id": "Elz_MhDY9yny"
      },
      "source": [
        "BusinessTravel = pd.get_dummies(data['BusinessTravel'],drop_first=True)\n",
        "Department = pd.get_dummies(data['Department'],drop_first=True)\n",
        "Education = pd.get_dummies(data['Education'],drop_first=True)\n",
        "EducationField = pd.get_dummies(data['EducationField'],drop_first=True)\n",
        "Gender = pd.get_dummies(data['Gender'],drop_first=True)\n",
        "JobRole = pd.get_dummies(data['JobRole'],drop_first=True)\n",
        "MaritalStatus = pd.get_dummies(data['MaritalStatus'],drop_first=True)"
      ],
      "execution_count": 24,
      "outputs": []
    },
    {
      "cell_type": "code",
      "metadata": {
        "id": "g5qJKv32-Jh2"
      },
      "source": [
        "data.drop(['BusinessTravel','Department','Education','EducationField','Gender','JobRole', 'MaritalStatus' ],axis=1,inplace=True)"
      ],
      "execution_count": 25,
      "outputs": []
    },
    {
      "cell_type": "code",
      "metadata": {
        "id": "zEuIGL6E-UO4"
      },
      "source": [
        "data = pd.concat([data,BusinessTravel,Department,Education,EducationField,Gender,JobRole, MaritalStatus],axis=1)"
      ],
      "execution_count": 26,
      "outputs": []
    },
    {
      "cell_type": "code",
      "metadata": {
        "colab": {
          "base_uri": "https://localhost:8080/",
          "height": 243
        },
        "id": "cqqq6HIY-ksW",
        "outputId": "94995733-54ab-40fa-b241-35068afe7bdc"
      },
      "source": [
        "data.head()"
      ],
      "execution_count": 27,
      "outputs": [
        {
          "output_type": "execute_result",
          "data": {
            "text/html": [
              "<div>\n",
              "<style scoped>\n",
              "    .dataframe tbody tr th:only-of-type {\n",
              "        vertical-align: middle;\n",
              "    }\n",
              "\n",
              "    .dataframe tbody tr th {\n",
              "        vertical-align: top;\n",
              "    }\n",
              "\n",
              "    .dataframe thead th {\n",
              "        text-align: right;\n",
              "    }\n",
              "</style>\n",
              "<table border=\"1\" class=\"dataframe\">\n",
              "  <thead>\n",
              "    <tr style=\"text-align: right;\">\n",
              "      <th></th>\n",
              "      <th>Age</th>\n",
              "      <th>Attrition</th>\n",
              "      <th>DistanceFromHome</th>\n",
              "      <th>EmployeeID</th>\n",
              "      <th>JobLevel</th>\n",
              "      <th>MonthlyIncome</th>\n",
              "      <th>NumCompaniesWorked</th>\n",
              "      <th>PercentSalaryHike</th>\n",
              "      <th>StockOptionLevel</th>\n",
              "      <th>TotalWorkingYears</th>\n",
              "      <th>TrainingTimesLastYear</th>\n",
              "      <th>YearsAtCompany</th>\n",
              "      <th>YearsSinceLastPromotion</th>\n",
              "      <th>YearsWithCurrManager</th>\n",
              "      <th>EnvironmentSatisfaction</th>\n",
              "      <th>JobSatisfaction</th>\n",
              "      <th>WorkLifeBalance</th>\n",
              "      <th>JobInvolvement</th>\n",
              "      <th>PerformanceRating</th>\n",
              "      <th>Travel_Frequently</th>\n",
              "      <th>Travel_Rarely</th>\n",
              "      <th>Research &amp; Development</th>\n",
              "      <th>Sales</th>\n",
              "      <th>2</th>\n",
              "      <th>3</th>\n",
              "      <th>4</th>\n",
              "      <th>5</th>\n",
              "      <th>Life Sciences</th>\n",
              "      <th>Marketing</th>\n",
              "      <th>Medical</th>\n",
              "      <th>Other</th>\n",
              "      <th>Technical Degree</th>\n",
              "      <th>Male</th>\n",
              "      <th>Human Resources</th>\n",
              "      <th>Laboratory Technician</th>\n",
              "      <th>Manager</th>\n",
              "      <th>Manufacturing Director</th>\n",
              "      <th>Research Director</th>\n",
              "      <th>Research Scientist</th>\n",
              "      <th>Sales Executive</th>\n",
              "      <th>Sales Representative</th>\n",
              "      <th>Married</th>\n",
              "      <th>Single</th>\n",
              "    </tr>\n",
              "  </thead>\n",
              "  <tbody>\n",
              "    <tr>\n",
              "      <th>0</th>\n",
              "      <td>51</td>\n",
              "      <td>0</td>\n",
              "      <td>6</td>\n",
              "      <td>1</td>\n",
              "      <td>1</td>\n",
              "      <td>131160</td>\n",
              "      <td>1.0</td>\n",
              "      <td>11</td>\n",
              "      <td>0</td>\n",
              "      <td>1.0</td>\n",
              "      <td>6</td>\n",
              "      <td>1</td>\n",
              "      <td>0</td>\n",
              "      <td>0</td>\n",
              "      <td>3.0</td>\n",
              "      <td>4.0</td>\n",
              "      <td>2.0</td>\n",
              "      <td>3</td>\n",
              "      <td>3</td>\n",
              "      <td>0</td>\n",
              "      <td>1</td>\n",
              "      <td>0</td>\n",
              "      <td>1</td>\n",
              "      <td>1</td>\n",
              "      <td>0</td>\n",
              "      <td>0</td>\n",
              "      <td>0</td>\n",
              "      <td>1</td>\n",
              "      <td>0</td>\n",
              "      <td>0</td>\n",
              "      <td>0</td>\n",
              "      <td>0</td>\n",
              "      <td>0</td>\n",
              "      <td>0</td>\n",
              "      <td>0</td>\n",
              "      <td>0</td>\n",
              "      <td>0</td>\n",
              "      <td>0</td>\n",
              "      <td>0</td>\n",
              "      <td>0</td>\n",
              "      <td>0</td>\n",
              "      <td>1</td>\n",
              "      <td>0</td>\n",
              "    </tr>\n",
              "    <tr>\n",
              "      <th>1</th>\n",
              "      <td>31</td>\n",
              "      <td>1</td>\n",
              "      <td>10</td>\n",
              "      <td>2</td>\n",
              "      <td>1</td>\n",
              "      <td>41890</td>\n",
              "      <td>0.0</td>\n",
              "      <td>23</td>\n",
              "      <td>1</td>\n",
              "      <td>6.0</td>\n",
              "      <td>3</td>\n",
              "      <td>5</td>\n",
              "      <td>1</td>\n",
              "      <td>4</td>\n",
              "      <td>3.0</td>\n",
              "      <td>2.0</td>\n",
              "      <td>4.0</td>\n",
              "      <td>2</td>\n",
              "      <td>4</td>\n",
              "      <td>1</td>\n",
              "      <td>0</td>\n",
              "      <td>1</td>\n",
              "      <td>0</td>\n",
              "      <td>0</td>\n",
              "      <td>0</td>\n",
              "      <td>0</td>\n",
              "      <td>0</td>\n",
              "      <td>1</td>\n",
              "      <td>0</td>\n",
              "      <td>0</td>\n",
              "      <td>0</td>\n",
              "      <td>0</td>\n",
              "      <td>0</td>\n",
              "      <td>0</td>\n",
              "      <td>0</td>\n",
              "      <td>0</td>\n",
              "      <td>0</td>\n",
              "      <td>0</td>\n",
              "      <td>1</td>\n",
              "      <td>0</td>\n",
              "      <td>0</td>\n",
              "      <td>0</td>\n",
              "      <td>1</td>\n",
              "    </tr>\n",
              "    <tr>\n",
              "      <th>2</th>\n",
              "      <td>32</td>\n",
              "      <td>0</td>\n",
              "      <td>17</td>\n",
              "      <td>3</td>\n",
              "      <td>4</td>\n",
              "      <td>193280</td>\n",
              "      <td>1.0</td>\n",
              "      <td>15</td>\n",
              "      <td>3</td>\n",
              "      <td>5.0</td>\n",
              "      <td>2</td>\n",
              "      <td>5</td>\n",
              "      <td>0</td>\n",
              "      <td>3</td>\n",
              "      <td>2.0</td>\n",
              "      <td>2.0</td>\n",
              "      <td>1.0</td>\n",
              "      <td>3</td>\n",
              "      <td>3</td>\n",
              "      <td>1</td>\n",
              "      <td>0</td>\n",
              "      <td>1</td>\n",
              "      <td>0</td>\n",
              "      <td>0</td>\n",
              "      <td>0</td>\n",
              "      <td>1</td>\n",
              "      <td>0</td>\n",
              "      <td>0</td>\n",
              "      <td>0</td>\n",
              "      <td>0</td>\n",
              "      <td>1</td>\n",
              "      <td>0</td>\n",
              "      <td>1</td>\n",
              "      <td>0</td>\n",
              "      <td>0</td>\n",
              "      <td>0</td>\n",
              "      <td>0</td>\n",
              "      <td>0</td>\n",
              "      <td>0</td>\n",
              "      <td>1</td>\n",
              "      <td>0</td>\n",
              "      <td>1</td>\n",
              "      <td>0</td>\n",
              "    </tr>\n",
              "    <tr>\n",
              "      <th>3</th>\n",
              "      <td>38</td>\n",
              "      <td>0</td>\n",
              "      <td>2</td>\n",
              "      <td>4</td>\n",
              "      <td>3</td>\n",
              "      <td>83210</td>\n",
              "      <td>3.0</td>\n",
              "      <td>11</td>\n",
              "      <td>3</td>\n",
              "      <td>13.0</td>\n",
              "      <td>5</td>\n",
              "      <td>8</td>\n",
              "      <td>7</td>\n",
              "      <td>5</td>\n",
              "      <td>4.0</td>\n",
              "      <td>4.0</td>\n",
              "      <td>3.0</td>\n",
              "      <td>2</td>\n",
              "      <td>3</td>\n",
              "      <td>0</td>\n",
              "      <td>0</td>\n",
              "      <td>1</td>\n",
              "      <td>0</td>\n",
              "      <td>0</td>\n",
              "      <td>0</td>\n",
              "      <td>0</td>\n",
              "      <td>1</td>\n",
              "      <td>1</td>\n",
              "      <td>0</td>\n",
              "      <td>0</td>\n",
              "      <td>0</td>\n",
              "      <td>0</td>\n",
              "      <td>1</td>\n",
              "      <td>1</td>\n",
              "      <td>0</td>\n",
              "      <td>0</td>\n",
              "      <td>0</td>\n",
              "      <td>0</td>\n",
              "      <td>0</td>\n",
              "      <td>0</td>\n",
              "      <td>0</td>\n",
              "      <td>1</td>\n",
              "      <td>0</td>\n",
              "    </tr>\n",
              "    <tr>\n",
              "      <th>4</th>\n",
              "      <td>32</td>\n",
              "      <td>0</td>\n",
              "      <td>10</td>\n",
              "      <td>5</td>\n",
              "      <td>1</td>\n",
              "      <td>23420</td>\n",
              "      <td>4.0</td>\n",
              "      <td>12</td>\n",
              "      <td>2</td>\n",
              "      <td>9.0</td>\n",
              "      <td>2</td>\n",
              "      <td>6</td>\n",
              "      <td>0</td>\n",
              "      <td>4</td>\n",
              "      <td>4.0</td>\n",
              "      <td>1.0</td>\n",
              "      <td>3.0</td>\n",
              "      <td>3</td>\n",
              "      <td>3</td>\n",
              "      <td>0</td>\n",
              "      <td>1</td>\n",
              "      <td>1</td>\n",
              "      <td>0</td>\n",
              "      <td>0</td>\n",
              "      <td>0</td>\n",
              "      <td>0</td>\n",
              "      <td>0</td>\n",
              "      <td>0</td>\n",
              "      <td>0</td>\n",
              "      <td>1</td>\n",
              "      <td>0</td>\n",
              "      <td>0</td>\n",
              "      <td>1</td>\n",
              "      <td>0</td>\n",
              "      <td>0</td>\n",
              "      <td>0</td>\n",
              "      <td>0</td>\n",
              "      <td>0</td>\n",
              "      <td>0</td>\n",
              "      <td>1</td>\n",
              "      <td>0</td>\n",
              "      <td>0</td>\n",
              "      <td>1</td>\n",
              "    </tr>\n",
              "  </tbody>\n",
              "</table>\n",
              "</div>"
            ],
            "text/plain": [
              "   Age  Attrition  DistanceFromHome  ...  Sales Representative  Married  Single\n",
              "0   51          0                 6  ...                     0        1       0\n",
              "1   31          1                10  ...                     0        0       1\n",
              "2   32          0                17  ...                     0        1       0\n",
              "3   38          0                 2  ...                     0        1       0\n",
              "4   32          0                10  ...                     0        0       1\n",
              "\n",
              "[5 rows x 43 columns]"
            ]
          },
          "metadata": {},
          "execution_count": 27
        }
      ]
    },
    {
      "cell_type": "markdown",
      "metadata": {
        "id": "4Q0MuMYXjiB3"
      },
      "source": [
        "## **Handle Unblanced Data**"
      ]
    },
    {
      "cell_type": "code",
      "metadata": {
        "id": "Ro1jXgSog2uH"
      },
      "source": [
        "train_features = data.drop([\"Attrition\",\"EmployeeID\", \"Age\", \"TotalWorkingYears\", \"PercentSalaryHike\",\"PerformanceRating\"],axis=1)\n",
        "train_label = data['Attrition']"
      ],
      "execution_count": 28,
      "outputs": []
    },
    {
      "cell_type": "code",
      "metadata": {
        "colab": {
          "base_uri": "https://localhost:8080/",
          "height": 0
        },
        "id": "3LIoocPir6Bw",
        "outputId": "6199afab-5988-4fa4-8e06-0b873e4c1f93"
      },
      "source": [
        "rus = RandomUnderSampler(random_state=42, replacement=True)# fit predictor and target variable\n",
        "x_rus, y_rus = rus.fit_resample(train_features, train_label)\n",
        "\n",
        "print('original dataset shape:', Counter(train_label))\n",
        "print('Resample dataset shape', Counter(y_rus))"
      ],
      "execution_count": 29,
      "outputs": [
        {
          "output_type": "stream",
          "name": "stdout",
          "text": [
            "original dataset shape: Counter({0: 3605, 1: 695})\n",
            "Resample dataset shape Counter({0: 695, 1: 695})\n"
          ]
        }
      ]
    },
    {
      "cell_type": "markdown",
      "metadata": {
        "id": "F20V0079A7Cw"
      },
      "source": [
        "## **Split Data**\n"
      ]
    },
    {
      "cell_type": "code",
      "metadata": {
        "colab": {
          "base_uri": "https://localhost:8080/",
          "height": 0
        },
        "id": "DQ_fQ4VzsIUm",
        "outputId": "b213f63e-16dd-428e-85fa-6cd8f30778b1"
      },
      "source": [
        "X_train, X_test, y_train, y_test = train_test_split(train_features, train_label, test_size=0.2, random_state=42)\n",
        "\n",
        "#Print out Shapes\n",
        "print(\"X_train Shape: \", X_train.shape)\n",
        "print(\"y_train Shape: \", y_train.shape)\n",
        "print(\"X_test Shape: \", X_test.shape)\n",
        "print(\"y_test Shape: \", y_test.shape)"
      ],
      "execution_count": 30,
      "outputs": [
        {
          "output_type": "stream",
          "name": "stdout",
          "text": [
            "X_train Shape:  (3440, 37)\n",
            "y_train Shape:  (3440,)\n",
            "X_test Shape:  (860, 37)\n",
            "y_test Shape:  (860,)\n"
          ]
        }
      ]
    },
    {
      "cell_type": "markdown",
      "metadata": {
        "id": "WdrYugA3JeEz"
      },
      "source": [
        "## **Feature Scaling**"
      ]
    },
    {
      "cell_type": "code",
      "metadata": {
        "id": "4Qk9G_FRBHx3"
      },
      "source": [
        "sc = StandardScaler()\n",
        "\n",
        "X_train = sc.fit_transform(X_train)\n",
        "X_test = sc.transform(X_test)"
      ],
      "execution_count": 31,
      "outputs": []
    },
    {
      "cell_type": "markdown",
      "metadata": {
        "id": "dwxAHtkGyfL_"
      },
      "source": [
        "## **Logistic Regression**"
      ]
    },
    {
      "cell_type": "code",
      "metadata": {
        "id": "XMZ3tGaSqT3b"
      },
      "source": [
        "LogReg = LogisticRegression(solver=\"liblinear\")\n",
        "LogReg.fit(X_train, y_train)\n",
        "\n",
        "log_pred = LogReg.predict(X_test)"
      ],
      "execution_count": 32,
      "outputs": []
    },
    {
      "cell_type": "code",
      "metadata": {
        "colab": {
          "base_uri": "https://localhost:8080/",
          "height": 0
        },
        "id": "PaVidaJg3oH1",
        "outputId": "589a56e9-2a28-4efc-8b40-8c580aed60cc"
      },
      "source": [
        "print(classification_report(y_test, log_pred))"
      ],
      "execution_count": 33,
      "outputs": [
        {
          "output_type": "stream",
          "name": "stdout",
          "text": [
            "              precision    recall  f1-score   support\n",
            "\n",
            "           0       0.85      0.99      0.91       717\n",
            "           1       0.64      0.10      0.17       143\n",
            "\n",
            "    accuracy                           0.84       860\n",
            "   macro avg       0.74      0.54      0.54       860\n",
            "weighted avg       0.81      0.84      0.79       860\n",
            "\n"
          ]
        }
      ]
    },
    {
      "cell_type": "code",
      "metadata": {
        "colab": {
          "base_uri": "https://localhost:8080/",
          "height": 318
        },
        "id": "VmiWgDYC3wxZ",
        "outputId": "0bd3cd27-a293-4c3a-e503-2e8a4dc4bc1e"
      },
      "source": [
        "log_cm = confusion_matrix(y_test, log_pred)\n",
        "\n",
        "plt.figure(figsize = (4,4))\n",
        "fig, ax = plt.subplots(1)\n",
        "ax = sb.heatmap(log_cm, ax=ax, annot=True) #normalize='all'\n",
        "plt.title('Confusion matrix')\n",
        "plt.ylabel('True category')\n",
        "plt.xlabel('Predicted category')\n",
        "plt.show()"
      ],
      "execution_count": 34,
      "outputs": [
        {
          "output_type": "display_data",
          "data": {
            "text/plain": [
              "<Figure size 288x288 with 0 Axes>"
            ]
          },
          "metadata": {}
        },
        {
          "output_type": "display_data",
          "data": {
            "image/png": "[encoded data removed]",
            "text/plain": [
              "<Figure size 432x288 with 2 Axes>"
            ]
          },
          "metadata": {}
        }
      ]
    },
    {
      "cell_type": "markdown",
      "metadata": {
        "id": "SMOMSsJZbpty"
      },
      "source": [
        "## **KNN** "
      ]
    },
    {
      "cell_type": "code",
      "metadata": {
        "id": "6MzTuaoVbpA9"
      },
      "source": [
        "knn = KNeighborsClassifier(n_neighbors=3)\n",
        "knn.fit(X_train, y_train)\n",
        "\n",
        "knn_pred = knn.predict(X_test)"
      ],
      "execution_count": 35,
      "outputs": []
    },
    {
      "cell_type": "code",
      "metadata": {
        "colab": {
          "base_uri": "https://localhost:8080/",
          "height": 0
        },
        "id": "0v5yaFYYb62h",
        "outputId": "d3ce235f-4c65-420c-e931-02075c0c1a1a"
      },
      "source": [
        "print(classification_report(y_test, knn_pred))"
      ],
      "execution_count": 36,
      "outputs": [
        {
          "output_type": "stream",
          "name": "stdout",
          "text": [
            "              precision    recall  f1-score   support\n",
            "\n",
            "           0       0.94      0.95      0.95       717\n",
            "           1       0.74      0.72      0.73       143\n",
            "\n",
            "    accuracy                           0.91       860\n",
            "   macro avg       0.84      0.83      0.84       860\n",
            "weighted avg       0.91      0.91      0.91       860\n",
            "\n"
          ]
        }
      ]
    },
    {
      "cell_type": "code",
      "metadata": {
        "colab": {
          "base_uri": "https://localhost:8080/",
          "height": 318
        },
        "id": "oEZddoNZb8vR",
        "outputId": "afc04835-36ce-4a19-bc6e-a78c8ee4407f"
      },
      "source": [
        "knn_cm = confusion_matrix(y_test, knn_pred)\n",
        "\n",
        "plt.figure(figsize = (4,4))\n",
        "fig, ax = plt.subplots(1)\n",
        "ax = sb.heatmap(knn_cm, ax=ax, annot=True) #normalize='all'\n",
        "plt.title('Confusion matrix')\n",
        "plt.ylabel('True category')\n",
        "plt.xlabel('Predicted category')\n",
        "plt.show()"
      ],
      "execution_count": 37,
      "outputs": [
        {
          "output_type": "display_data",
          "data": {
            "text/plain": [
              "<Figure size 288x288 with 0 Axes>"
            ]
          },
          "metadata": {}
        },
        {
          "output_type": "display_data",
          "data": {
            "image/png": "[encoded data removed]",
            "text/plain": [
              "<Figure size 432x288 with 2 Axes>"
            ]
          },
          "metadata": {}
        }
      ]
    },
    {
      "cell_type": "markdown",
      "metadata": {
        "id": "lEaUnc0WTypx"
      },
      "source": [
        "## **LinearSVC**"
      ]
    },
    {
      "cell_type": "code",
      "metadata": {
        "colab": {
          "base_uri": "https://localhost:8080/",
          "height": 0
        },
        "id": "NStP5_-gSblO",
        "outputId": "540da858-45c1-4211-de40-d145b61c53c0"
      },
      "source": [
        "svc = LinearSVC()\n",
        "svc_model = CalibratedClassifierCV(svc)\n",
        "\n",
        "svc_model.fit(X_train, y_train)\n",
        "svc_pred = svc_model.predict(X_test)"
      ],
      "execution_count": 38,
      "outputs": [
        {
          "output_type": "stream",
          "name": "stderr",
          "text": [
            "/usr/local/lib/python3.7/dist-packages/sklearn/svm/_base.py:1208: ConvergenceWarning: Liblinear failed to converge, increase the number of iterations.\n",
            "  ConvergenceWarning,\n",
            "/usr/local/lib/python3.7/dist-packages/sklearn/svm/_base.py:1208: ConvergenceWarning: Liblinear failed to converge, increase the number of iterations.\n",
            "  ConvergenceWarning,\n",
            "/usr/local/lib/python3.7/dist-packages/sklearn/svm/_base.py:1208: ConvergenceWarning: Liblinear failed to converge, increase the number of iterations.\n",
            "  ConvergenceWarning,\n",
            "/usr/local/lib/python3.7/dist-packages/sklearn/svm/_base.py:1208: ConvergenceWarning: Liblinear failed to converge, increase the number of iterations.\n",
            "  ConvergenceWarning,\n",
            "/usr/local/lib/python3.7/dist-packages/sklearn/svm/_base.py:1208: ConvergenceWarning: Liblinear failed to converge, increase the number of iterations.\n",
            "  ConvergenceWarning,\n"
          ]
        }
      ]
    },
    {
      "cell_type": "code",
      "metadata": {
        "colab": {
          "base_uri": "https://localhost:8080/",
          "height": 0
        },
        "id": "FTrc5ZlpSdec",
        "outputId": "682d39ff-3f39-436d-a667-d0e9ab4c1123"
      },
      "source": [
        "print(classification_report(y_test, svc_pred))"
      ],
      "execution_count": 39,
      "outputs": [
        {
          "output_type": "stream",
          "name": "stdout",
          "text": [
            "              precision    recall  f1-score   support\n",
            "\n",
            "           0       0.84      0.99      0.91       717\n",
            "           1       0.57      0.06      0.10       143\n",
            "\n",
            "    accuracy                           0.84       860\n",
            "   macro avg       0.71      0.52      0.51       860\n",
            "weighted avg       0.80      0.84      0.78       860\n",
            "\n"
          ]
        }
      ]
    },
    {
      "cell_type": "code",
      "metadata": {
        "colab": {
          "base_uri": "https://localhost:8080/",
          "height": 318
        },
        "id": "qmkzHuWzSgj4",
        "outputId": "5aeb6c90-6796-4be2-a58e-305b193c0719"
      },
      "source": [
        "svc_cm = confusion_matrix(y_test, svc_pred)\n",
        "\n",
        "plt.figure(figsize = (4,4))\n",
        "fig, ax = plt.subplots(1)\n",
        "ax = sb.heatmap(svc_cm, ax=ax, annot=True) #normalize='all'\n",
        "plt.title('Confusion matrix')\n",
        "plt.ylabel('True category')\n",
        "plt.xlabel('Predicted category')\n",
        "plt.show()"
      ],
      "execution_count": 40,
      "outputs": [
        {
          "output_type": "display_data",
          "data": {
            "text/plain": [
              "<Figure size 288x288 with 0 Axes>"
            ]
          },
          "metadata": {}
        },
        {
          "output_type": "display_data",
          "data": {
            "image/png": "[encoded data removed]",
            "text/plain": [
              "<Figure size 432x288 with 2 Axes>"
            ]
          },
          "metadata": {}
        }
      ]
    },
    {
      "cell_type": "code",
      "metadata": {
        "id": "oc_05kYq4j37"
      },
      "source": [
        "#pip install dominance-analysis"
      ],
      "execution_count": 41,
      "outputs": []
    },
    {
      "cell_type": "code",
      "metadata": {
        "colab": {
          "base_uri": "https://localhost:8080/",
          "height": 243
        },
        "id": "jWt7Oa-F-Rgu",
        "outputId": "4df120b5-d178-41fb-b18d-2df28af90068"
      },
      "source": [
        "data_final = data.drop(columns=[\"EmployeeID\", \"Age\", \"TotalWorkingYears\", \"PercentSalaryHike\",\"PerformanceRating\"])\n",
        "data_final.head()"
      ],
      "execution_count": 42,
      "outputs": [
        {
          "output_type": "execute_result",
          "data": {
            "text/html": [
              "<div>\n",
              "<style scoped>\n",
              "    .dataframe tbody tr th:only-of-type {\n",
              "        vertical-align: middle;\n",
              "    }\n",
              "\n",
              "    .dataframe tbody tr th {\n",
              "        vertical-align: top;\n",
              "    }\n",
              "\n",
              "    .dataframe thead th {\n",
              "        text-align: right;\n",
              "    }\n",
              "</style>\n",
              "<table border=\"1\" class=\"dataframe\">\n",
              "  <thead>\n",
              "    <tr style=\"text-align: right;\">\n",
              "      <th></th>\n",
              "      <th>Attrition</th>\n",
              "      <th>DistanceFromHome</th>\n",
              "      <th>JobLevel</th>\n",
              "      <th>MonthlyIncome</th>\n",
              "      <th>NumCompaniesWorked</th>\n",
              "      <th>StockOptionLevel</th>\n",
              "      <th>TrainingTimesLastYear</th>\n",
              "      <th>YearsAtCompany</th>\n",
              "      <th>YearsSinceLastPromotion</th>\n",
              "      <th>YearsWithCurrManager</th>\n",
              "      <th>EnvironmentSatisfaction</th>\n",
              "      <th>JobSatisfaction</th>\n",
              "      <th>WorkLifeBalance</th>\n",
              "      <th>JobInvolvement</th>\n",
              "      <th>Travel_Frequently</th>\n",
              "      <th>Travel_Rarely</th>\n",
              "      <th>Research &amp; Development</th>\n",
              "      <th>Sales</th>\n",
              "      <th>2</th>\n",
              "      <th>3</th>\n",
              "      <th>4</th>\n",
              "      <th>5</th>\n",
              "      <th>Life Sciences</th>\n",
              "      <th>Marketing</th>\n",
              "      <th>Medical</th>\n",
              "      <th>Other</th>\n",
              "      <th>Technical Degree</th>\n",
              "      <th>Male</th>\n",
              "      <th>Human Resources</th>\n",
              "      <th>Laboratory Technician</th>\n",
              "      <th>Manager</th>\n",
              "      <th>Manufacturing Director</th>\n",
              "      <th>Research Director</th>\n",
              "      <th>Research Scientist</th>\n",
              "      <th>Sales Executive</th>\n",
              "      <th>Sales Representative</th>\n",
              "      <th>Married</th>\n",
              "      <th>Single</th>\n",
              "    </tr>\n",
              "  </thead>\n",
              "  <tbody>\n",
              "    <tr>\n",
              "      <th>0</th>\n",
              "      <td>0</td>\n",
              "      <td>6</td>\n",
              "      <td>1</td>\n",
              "      <td>131160</td>\n",
              "      <td>1.0</td>\n",
              "      <td>0</td>\n",
              "      <td>6</td>\n",
              "      <td>1</td>\n",
              "      <td>0</td>\n",
              "      <td>0</td>\n",
              "      <td>3.0</td>\n",
              "      <td>4.0</td>\n",
              "      <td>2.0</td>\n",
              "      <td>3</td>\n",
              "      <td>0</td>\n",
              "      <td>1</td>\n",
              "      <td>0</td>\n",
              "      <td>1</td>\n",
              "      <td>1</td>\n",
              "      <td>0</td>\n",
              "      <td>0</td>\n",
              "      <td>0</td>\n",
              "      <td>1</td>\n",
              "      <td>0</td>\n",
              "      <td>0</td>\n",
              "      <td>0</td>\n",
              "      <td>0</td>\n",
              "      <td>0</td>\n",
              "      <td>0</td>\n",
              "      <td>0</td>\n",
              "      <td>0</td>\n",
              "      <td>0</td>\n",
              "      <td>0</td>\n",
              "      <td>0</td>\n",
              "      <td>0</td>\n",
              "      <td>0</td>\n",
              "      <td>1</td>\n",
              "      <td>0</td>\n",
              "    </tr>\n",
              "    <tr>\n",
              "      <th>1</th>\n",
              "      <td>1</td>\n",
              "      <td>10</td>\n",
              "      <td>1</td>\n",
              "      <td>41890</td>\n",
              "      <td>0.0</td>\n",
              "      <td>1</td>\n",
              "      <td>3</td>\n",
              "      <td>5</td>\n",
              "      <td>1</td>\n",
              "      <td>4</td>\n",
              "      <td>3.0</td>\n",
              "      <td>2.0</td>\n",
              "      <td>4.0</td>\n",
              "      <td>2</td>\n",
              "      <td>1</td>\n",
              "      <td>0</td>\n",
              "      <td>1</td>\n",
              "      <td>0</td>\n",
              "      <td>0</td>\n",
              "      <td>0</td>\n",
              "      <td>0</td>\n",
              "      <td>0</td>\n",
              "      <td>1</td>\n",
              "      <td>0</td>\n",
              "      <td>0</td>\n",
              "      <td>0</td>\n",
              "      <td>0</td>\n",
              "      <td>0</td>\n",
              "      <td>0</td>\n",
              "      <td>0</td>\n",
              "      <td>0</td>\n",
              "      <td>0</td>\n",
              "      <td>0</td>\n",
              "      <td>1</td>\n",
              "      <td>0</td>\n",
              "      <td>0</td>\n",
              "      <td>0</td>\n",
              "      <td>1</td>\n",
              "    </tr>\n",
              "    <tr>\n",
              "      <th>2</th>\n",
              "      <td>0</td>\n",
              "      <td>17</td>\n",
              "      <td>4</td>\n",
              "      <td>193280</td>\n",
              "      <td>1.0</td>\n",
              "      <td>3</td>\n",
              "      <td>2</td>\n",
              "      <td>5</td>\n",
              "      <td>0</td>\n",
              "      <td>3</td>\n",
              "      <td>2.0</td>\n",
              "      <td>2.0</td>\n",
              "      <td>1.0</td>\n",
              "      <td>3</td>\n",
              "      <td>1</td>\n",
              "      <td>0</td>\n",
              "      <td>1</td>\n",
              "      <td>0</td>\n",
              "      <td>0</td>\n",
              "      <td>0</td>\n",
              "      <td>1</td>\n",
              "      <td>0</td>\n",
              "      <td>0</td>\n",
              "      <td>0</td>\n",
              "      <td>0</td>\n",
              "      <td>1</td>\n",
              "      <td>0</td>\n",
              "      <td>1</td>\n",
              "      <td>0</td>\n",
              "      <td>0</td>\n",
              "      <td>0</td>\n",
              "      <td>0</td>\n",
              "      <td>0</td>\n",
              "      <td>0</td>\n",
              "      <td>1</td>\n",
              "      <td>0</td>\n",
              "      <td>1</td>\n",
              "      <td>0</td>\n",
              "    </tr>\n",
              "    <tr>\n",
              "      <th>3</th>\n",
              "      <td>0</td>\n",
              "      <td>2</td>\n",
              "      <td>3</td>\n",
              "      <td>83210</td>\n",
              "      <td>3.0</td>\n",
              "      <td>3</td>\n",
              "      <td>5</td>\n",
              "      <td>8</td>\n",
              "      <td>7</td>\n",
              "      <td>5</td>\n",
              "      <td>4.0</td>\n",
              "      <td>4.0</td>\n",
              "      <td>3.0</td>\n",
              "      <td>2</td>\n",
              "      <td>0</td>\n",
              "      <td>0</td>\n",
              "      <td>1</td>\n",
              "      <td>0</td>\n",
              "      <td>0</td>\n",
              "      <td>0</td>\n",
              "      <td>0</td>\n",
              "      <td>1</td>\n",
              "      <td>1</td>\n",
              "      <td>0</td>\n",
              "      <td>0</td>\n",
              "      <td>0</td>\n",
              "      <td>0</td>\n",
              "      <td>1</td>\n",
              "      <td>1</td>\n",
              "      <td>0</td>\n",
              "      <td>0</td>\n",
              "      <td>0</td>\n",
              "      <td>0</td>\n",
              "      <td>0</td>\n",
              "      <td>0</td>\n",
              "      <td>0</td>\n",
              "      <td>1</td>\n",
              "      <td>0</td>\n",
              "    </tr>\n",
              "    <tr>\n",
              "      <th>4</th>\n",
              "      <td>0</td>\n",
              "      <td>10</td>\n",
              "      <td>1</td>\n",
              "      <td>23420</td>\n",
              "      <td>4.0</td>\n",
              "      <td>2</td>\n",
              "      <td>2</td>\n",
              "      <td>6</td>\n",
              "      <td>0</td>\n",
              "      <td>4</td>\n",
              "      <td>4.0</td>\n",
              "      <td>1.0</td>\n",
              "      <td>3.0</td>\n",
              "      <td>3</td>\n",
              "      <td>0</td>\n",
              "      <td>1</td>\n",
              "      <td>1</td>\n",
              "      <td>0</td>\n",
              "      <td>0</td>\n",
              "      <td>0</td>\n",
              "      <td>0</td>\n",
              "      <td>0</td>\n",
              "      <td>0</td>\n",
              "      <td>0</td>\n",
              "      <td>1</td>\n",
              "      <td>0</td>\n",
              "      <td>0</td>\n",
              "      <td>1</td>\n",
              "      <td>0</td>\n",
              "      <td>0</td>\n",
              "      <td>0</td>\n",
              "      <td>0</td>\n",
              "      <td>0</td>\n",
              "      <td>0</td>\n",
              "      <td>1</td>\n",
              "      <td>0</td>\n",
              "      <td>0</td>\n",
              "      <td>1</td>\n",
              "    </tr>\n",
              "  </tbody>\n",
              "</table>\n",
              "</div>"
            ],
            "text/plain": [
              "   Attrition  DistanceFromHome  JobLevel  ...  Sales Representative  Married  Single\n",
              "0          0                 6         1  ...                     0        1       0\n",
              "1          1                10         1  ...                     0        0       1\n",
              "2          0                17         4  ...                     0        1       0\n",
              "3          0                 2         3  ...                     0        1       0\n",
              "4          0                10         1  ...                     0        0       1\n",
              "\n",
              "[5 rows x 38 columns]"
            ]
          },
          "metadata": {},
          "execution_count": 42
        }
      ]
    },
    {
      "cell_type": "code",
      "metadata": {
        "colab": {
          "base_uri": "https://localhost:8080/",
          "height": 158
        },
        "id": "Txjs40G84RUb",
        "outputId": "58d181f0-99e8-4f4b-c1ee-655e2c0c2eeb"
      },
      "source": [
        "from dominance_analysis import Dominance_Datasets\n",
        "from dominance_analysis import Dominance\n",
        "\n",
        "dominance_classification=Dominance(data=data_final,target='Attrition',objective=0,pseudo_r2=\"mcfadden\")"
      ],
      "execution_count": 43,
      "outputs": [
        {
          "output_type": "display_data",
          "data": {
            "text/html": [
              "        <script type=\"text/javascript\">\n",
              "        window.PlotlyConfig = {MathJaxConfig: 'local'};\n",
              "        if (window.MathJax) {MathJax.Hub.Config({SVG: {font: \"STIX-Web\"}});}\n",
              "        if (typeof require !== 'undefined') {\n",
              "        require.undef(\"plotly\");\n",
              "        requirejs.config({\n",
              "            paths: {\n",
              "                'plotly': ['https://cdn.plot.ly/plotly-latest.min']\n",
              "            }\n",
              "        });\n",
              "        require(['plotly'], function(Plotly) {\n",
              "            window._Plotly = Plotly;\n",
              "        });\n",
              "        }\n",
              "        </script>\n",
              "        "
            ]
          },
          "metadata": {}
        },
        {
          "output_type": "stream",
          "name": "stdout",
          "text": [
            "Selecting 15 Best Predictors for the Model\n",
            "Selected Predictors :  ['MonthlyIncome', 'NumCompaniesWorked', 'TrainingTimesLastYear', 'YearsAtCompany', 'YearsSinceLastPromotion', 'YearsWithCurrManager', 'EnvironmentSatisfaction', 'JobSatisfaction', 'Travel_Frequently', 2, 'Technical Degree', 'Manufacturing Director', 'Research Director', 'Married', 'Single']\n",
            "\n",
            "********************  Pseudo R-Squared of Complete Model :  ********************\n",
            "\n",
            "MacFadden's R-Squared : 0.12385508787827326 \n",
            "\n"
          ]
        }
      ]
    }
  ]
}